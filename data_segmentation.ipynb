{
 "cells": [
  {
   "cell_type": "code",
   "execution_count": 1,
   "id": "ee80d84a-7812-4921-9126-358a669940fa",
   "metadata": {},
   "outputs": [],
   "source": [
    "import pandas as pd\n"
   ]
  },
  {
   "cell_type": "code",
   "execution_count": 5,
   "id": "bfb5dd4d-aa0c-4090-be1b-11f1a88349aa",
   "metadata": {},
   "outputs": [],
   "source": [
    "small_set_data = pd.read_parquet(\"data/Zzzs_train.parquet\")"
   ]
  },
  {
   "cell_type": "code",
   "execution_count": 6,
   "id": "fcb2f468-1fe5-4f9f-bbd4-fbc7d715f635",
   "metadata": {},
   "outputs": [
    {
     "name": "stdout",
     "output_type": "stream",
     "text": [
      "             series_id    step                 timestamp     anglez    enmo  \\\n",
      "0         08db4255286f       0  2018-11-05T10:00:00-0400 -30.845301  0.0447   \n",
      "1         08db4255286f       1  2018-11-05T10:00:05-0400 -34.181801  0.0443   \n",
      "2         08db4255286f       2  2018-11-05T10:00:10-0400 -33.877102  0.0483   \n",
      "3         08db4255286f       3  2018-11-05T10:00:15-0400 -34.282101  0.0680   \n",
      "4         08db4255286f       4  2018-11-05T10:00:20-0400 -34.385799  0.0768   \n",
      "...                ...     ...                       ...        ...     ...   \n",
      "13165555  d5e47b94477e  395815  2017-12-02T15:44:35-0500 -10.064100  0.1552   \n",
      "13165556  d5e47b94477e  395816  2017-12-02T15:44:40-0500 -10.006700  0.1139   \n",
      "13165557  d5e47b94477e  395817  2017-12-02T15:44:45-0500  -3.328600  0.1245   \n",
      "13165558  d5e47b94477e  395818  2017-12-02T15:44:50-0500  -5.903100  0.1363   \n",
      "13165559  d5e47b94477e  395819  2017-12-02T15:44:55-0500 -11.691100  0.0995   \n",
      "\n",
      "          awake  \n",
      "0             1  \n",
      "1             1  \n",
      "2             1  \n",
      "3             1  \n",
      "4             1  \n",
      "...         ...  \n",
      "13165555      1  \n",
      "13165556      1  \n",
      "13165557      1  \n",
      "13165558      1  \n",
      "13165559      1  \n",
      "\n",
      "[13165560 rows x 6 columns]\n"
     ]
    }
   ],
   "source": [
    "print(small_set_data)"
   ]
  },
  {
   "cell_type": "code",
   "execution_count": 7,
   "id": "2f994520-12ad-439e-a18c-283636371a70",
   "metadata": {},
   "outputs": [],
   "source": [
    "data_series = {}\n",
    "for series in set(small_set_data[\"series_id\"]):\n",
    "    data_series[series] = small_set_data[small_set_data[\"series_id\"] == series]"
   ]
  },
  {
   "cell_type": "code",
   "execution_count": 17,
   "id": "1fa57435-8b90-4725-928c-ba3813b681b5",
   "metadata": {},
   "outputs": [
    {
     "name": "stdout",
     "output_type": "stream",
     "text": [
      "            series_id  step                 timestamp     anglez    enmo  \\\n",
      "1885140  18b61dd5aae8     0  2017-12-22T16:30:00-0500 -14.944400  0.0091   \n",
      "1885141  18b61dd5aae8     1  2017-12-22T16:30:05-0500 -15.538300  0.0204   \n",
      "1885142  18b61dd5aae8     2  2017-12-22T16:30:10-0500 -15.362400  0.0048   \n",
      "1885143  18b61dd5aae8     3  2017-12-22T16:30:15-0500 -15.332100  0.0008   \n",
      "1885144  18b61dd5aae8     4  2017-12-22T16:30:20-0500 -14.292500  0.0065   \n",
      "1885145  18b61dd5aae8     5  2017-12-22T16:30:25-0500 -16.090900  0.0087   \n",
      "1885146  18b61dd5aae8     6  2017-12-22T16:30:30-0500 -16.971300  0.0206   \n",
      "1885147  18b61dd5aae8     7  2017-12-22T16:30:35-0500 -15.477400  0.0124   \n",
      "1885148  18b61dd5aae8     8  2017-12-22T16:30:40-0500 -18.168501  0.0660   \n",
      "1885149  18b61dd5aae8     9  2017-12-22T16:30:45-0500 -12.208900  0.1289   \n",
      "\n",
      "         awake  \n",
      "1885140      1  \n",
      "1885141      1  \n",
      "1885142      1  \n",
      "1885143      1  \n",
      "1885144      1  \n",
      "1885145      1  \n",
      "1885146      1  \n",
      "1885147      1  \n",
      "1885148      1  \n",
      "1885149      1  \n"
     ]
    }
   ],
   "source": [
    "print(data_series['18b61dd5aae8'].iloc[0:10])"
   ]
  },
  {
   "cell_type": "code",
   "execution_count": 19,
   "id": "b072823b-4c30-4a71-b643-b9c56d5d4b29",
   "metadata": {},
   "outputs": [],
   "source": [
    "partitions = {}\n",
    "for series in set(small_set_data[\"series_id\"]):\n",
    "    partitions[series] = []\n",
    "    current_partition = pd.DataFrame()\n",
    "    start_value = data_series[series][\"awake\"].iloc[0]\n",
    "    for index, row  in data_series[series].iterrows():\n",
    "        #print(row)\n",
    "        if row[\"awake\"] == start_value:\n",
    "        # If the value is the same, append it to the current partition\n",
    "            current_partition = pd.concat([current_partition, row.to_frame().T])\n",
    "        else:\n",
    "        # If the value is different, create a new partition\n",
    "            partitions[series].append(current_partition)\n",
    "            current_partition = pd.DataFrame()  # Reset the current partition\n",
    "            current_partition = pd.concat([current_partition, row.to_frame().T])\n",
    "            start_value = row[\"awake\"]  # Update the start value"
   ]
  },
  {
   "cell_type": "code",
   "execution_count": 23,
   "id": "969a207a-4c5c-422e-b8f2-f043cb8cbd37",
   "metadata": {},
   "outputs": [
    {
     "name": "stdout",
     "output_type": "stream",
     "text": [
      "            series_id   step                 timestamp     anglez    enmo  \\\n",
      "1897237  18b61dd5aae8  12097  2017-12-23T09:18:05-0500  63.511398     0.0   \n",
      "1897238  18b61dd5aae8  12098  2017-12-23T09:18:10-0500    55.4753  0.0057   \n",
      "1897239  18b61dd5aae8  12099  2017-12-23T09:18:15-0500  54.178398  0.0084   \n",
      "1897240  18b61dd5aae8  12100  2017-12-23T09:18:20-0500  62.499298     0.0   \n",
      "1897241  18b61dd5aae8  12101  2017-12-23T09:18:25-0500  62.499298  0.0001   \n",
      "...               ...    ...                       ...        ...     ...   \n",
      "1906808  18b61dd5aae8  21668  2017-12-23T22:35:40-0500   -13.8579  0.0139   \n",
      "1906809  18b61dd5aae8  21669  2017-12-23T22:35:45-0500   -13.6616  0.0139   \n",
      "1906810  18b61dd5aae8  21670  2017-12-23T22:35:50-0500   -13.3994  0.0154   \n",
      "1906811  18b61dd5aae8  21671  2017-12-23T22:35:55-0500   -13.5491  0.0207   \n",
      "1906812  18b61dd5aae8  21672  2017-12-23T22:36:00-0500   -13.6627  0.0162   \n",
      "\n",
      "        awake  \n",
      "1897237     1  \n",
      "1897238     1  \n",
      "1897239     1  \n",
      "1897240     1  \n",
      "1897241     1  \n",
      "...       ...  \n",
      "1906808     1  \n",
      "1906809     1  \n",
      "1906810     1  \n",
      "1906811     1  \n",
      "1906812     1  \n",
      "\n",
      "[9576 rows x 6 columns]\n"
     ]
    }
   ],
   "source": [
    "print(partitions['18b61dd5aae8'][2])"
   ]
  },
  {
   "cell_type": "code",
   "execution_count": 28,
   "id": "26430877-e5ec-4c12-a538-6397bb226205",
   "metadata": {},
   "outputs": [],
   "source": [
    "import os\n",
    "# Assuming 'partitions' is your dictionary\n",
    "for key, df_list in partitions.items():\n",
    "    for index, df in enumerate(df_list):\n",
    "        # Get the value of the first row of the \"awake\" column\n",
    "        first_row_value = df[\"awake\"].iloc[0]\n",
    "\n",
    "        # Generate a unique file name based on key, index, and first row value\n",
    "        file_name = f\"{key}_index{index}_awake{first_row_value}.csv\"\n",
    "        \n",
    "        # Define the path where the CSV file will be saved\n",
    "        if first_row_value == 0:\n",
    "            save_path = os.path.join(\"data/asleep\", file_name)\n",
    "        if first_row_value == 1:\n",
    "            save_path = os.path.join(\"data/awake\", file_name)\n",
    "\n",
    "        # Save the DataFrame to the CSV file\n",
    "        df.to_csv(save_path, index=False)"
   ]
  },
  {
   "cell_type": "code",
   "execution_count": null,
   "id": "3bbd0dbb-86f6-4bf0-821e-9c0ce9c4cd8f",
   "metadata": {},
   "outputs": [],
   "source": []
  }
 ],
 "metadata": {
  "kernelspec": {
   "display_name": "Python 3 (ipykernel)",
   "language": "python",
   "name": "python3"
  },
  "language_info": {
   "codemirror_mode": {
    "name": "ipython",
    "version": 3
   },
   "file_extension": ".py",
   "mimetype": "text/x-python",
   "name": "python",
   "nbconvert_exporter": "python",
   "pygments_lexer": "ipython3",
   "version": "3.11.5"
  }
 },
 "nbformat": 4,
 "nbformat_minor": 5
}
