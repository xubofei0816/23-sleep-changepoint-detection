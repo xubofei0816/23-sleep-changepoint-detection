{
 "cells": [
  {
   "cell_type": "code",
   "execution_count": 1,
   "id": "e2d32881-acc2-416b-a445-2ebe79b921ef",
   "metadata": {
    "tags": []
   },
   "outputs": [],
   "source": [
    "import pandas as pd\n",
    "import numpy as np\n",
    "\n",
    "from sklearn.model_selection import train_test_split\n",
    "\n"
   ]
  },
  {
   "cell_type": "code",
   "execution_count": 2,
   "id": "5ba75c0c-e262-472b-ae7f-4fe326c6ec84",
   "metadata": {
    "tags": []
   },
   "outputs": [
    {
     "name": "stderr",
     "output_type": "stream",
     "text": [
      "2023-11-16 11:02:47.053903: I tensorflow/tsl/cuda/cudart_stub.cc:28] Could not find cuda drivers on your machine, GPU will not be used.\n",
      "2023-11-16 11:02:47.110089: I tensorflow/tsl/cuda/cudart_stub.cc:28] Could not find cuda drivers on your machine, GPU will not be used.\n",
      "2023-11-16 11:02:51.439709: W tensorflow/compiler/tf2tensorrt/utils/py_utils.cc:38] TF-TRT Warning: Could not find TensorRT\n"
     ]
    }
   ],
   "source": [
    "import tensorflow as tf\n",
    "from tensorflow.keras.models import Model\n",
    "from tensorflow.keras.layers import Input, LSTM, Dense, Attention, Concatenate\n",
    "\n"
   ]
  },
  {
   "cell_type": "code",
   "execution_count": 3,
   "id": "f41480cf-7be2-4d3b-90ca-3454cbeb139f",
   "metadata": {
    "tags": []
   },
   "outputs": [],
   "source": [
    "from sklearn.utils import class_weight\n",
    "from tensorflow.keras.callbacks import EarlyStopping, TensorBoard\n",
    "\n",
    "from tensorflow.keras.callbacks import ModelCheckpoint\n",
    "from tensorflow.keras.models import load_model"
   ]
  },
  {
   "cell_type": "code",
   "execution_count": 4,
   "id": "da2084fb-fb22-4e1f-bdd4-22e24878e357",
   "metadata": {
    "tags": []
   },
   "outputs": [],
   "source": [
    "#ensure that TensorFlow can access local GPUs\n",
    "\n",
    "physical_devices = tf.config.list_physical_devices('GPU')\n",
    "if physical_devices:\n",
    "    for device in physical_devices:\n",
    "        tf.config.experimental.set_memory_growth(device, True)\n"
   ]
  },
  {
   "cell_type": "markdown",
   "id": "976fdb23-227b-4ae2-a8ce-faecf1f7c827",
   "metadata": {
    "user_expressions": []
   },
   "source": [
    "Load Parquet Data"
   ]
  },
  {
   "cell_type": "code",
   "execution_count": 5,
   "id": "6d0e7cf6-7acb-4cbf-8200-5988a0c9924d",
   "metadata": {
    "tags": []
   },
   "outputs": [],
   "source": [
    "small_set_data = pd.read_parquet(\"data/Zzzs_train.parquet\")"
   ]
  },
  {
   "cell_type": "code",
   "execution_count": 6,
   "id": "7063aa34-b8e9-43d9-8a3d-fdce20b6f851",
   "metadata": {
    "tags": []
   },
   "outputs": [],
   "source": [
    "data_series = {}\n",
    "for series in set(small_set_data[\"series_id\"]):\n",
    "    data_series[series] = small_set_data[small_set_data[\"series_id\"] == series]"
   ]
  },
  {
   "cell_type": "code",
   "execution_count": 17,
   "id": "a47f79b7-6f06-40b9-ba80-d03a33cbc31b",
   "metadata": {
    "tags": []
   },
   "outputs": [],
   "source": [
    "def create_non_overlapping_section(data,feature,timestep_interval_in_sec,window_length_by_hr):\n",
    "    window_size = window_length_by_hr * 60 * 60 / timestep_interval_in_sec\n",
    "    column_names = [\"local step \" + str(i) for i in range(window_size)]\n",
    "    column_names = [\"series_id\", \"global first step num\", \"global first timestamp\",\"num_day\"]+column_names\n",
    "    column_names = column_names + [\"awake\",\"wakeup\",\"fallasleep\",\"asleep\"]\n",
    "    windowed_data = []\n",
    "    dummy_counter = 10\n",
    "    num_sections = len(data) // window_size\n",
    "    for i in range(len(data) - window_size + 1):\n",
    "        current_row = list(data.iloc[i,0:3]) + list(data[feature].iloc[i:i+window_size])\n",
    "        #print(i, sum(data[\"enmo\"][i:i+window_size]))\n",
    "        if sum(data[\"awake\"].iloc[i:i+window_size]) >= window_size - buffer: #Therefore during a time window, if the majority of the timesteps are\n",
    "            #awake then the window is defined as awake; it does not matter if the window started with awake as 0, or 1.\n",
    "            state = [1,0,0,0]\n",
    "        elif sum(data[\"awake\"].iloc[i:i+window_size]) <= buffer:   \n",
    "            state = [0,0,0,1]\n",
    "        elif data[\"awake\"].iloc[i] == 1:   \n",
    "            state = [0,0,1,0]\n",
    "        elif data[\"awake\"].iloc[i] == 0:   \n",
    "            state = [0,1,0,0] \n",
    "        current_row += state\n",
    "        #print(len(current_row))\n",
    "        #print(current_row)\n",
    "        #print(type(windowed_data))\n",
    "        windowed_data.append(current_row)\n",
    "        if (i*100) // (len(data) - window_size + 1) % 10 == 0 and (i  * 100 )// (len(data) - window_size + 1) != 0 and (i*100) // (len(data) - window_size + 1) >= dummy_counter:\n",
    "            print(f\"series {data.iloc[i,0]}  completed: {(i*100) // (len(data) - window_size + 1)} %\")\n",
    "            dummy_counter += 10\n",
    "    windowed_data = pd.DataFrame(windowed_data, columns=column_names) #windowed_data.append(pd.Series(current_row, index=windowed_data.columns), ignore_index=True)\n",
    "        \n",
    "    return windowed_data\n",
    "    \n",
    "        \n",
    "        \n",
    "        \n",
    "    "
   ]
  },
  {
   "cell_type": "code",
   "execution_count": 8,
   "id": "2603de1e-59f5-48a5-ab40-b40765ecae6b",
   "metadata": {
    "tags": []
   },
   "outputs": [],
   "source": [
    "# Function to convert timestamp string to sinusoidal wave representation\n",
    "def convert_to_sine_wave(timestamp_str):\n",
    "    timestamp_dt = datetime.strptime(timestamp_str, \"%Y-%m-%dT%H:%M:%S%z\")\n",
    "    time_in_hours = timestamp_dt.hour + timestamp_dt.minute / 60  # Convert minute to fraction of an hour\n",
    "    return np.sin(2 * np.pi * time_in_hours / 24)  # 24 hours is the period\n"
   ]
  },
  {
   "cell_type": "code",
   "execution_count": 9,
   "id": "01511d88-443f-4b3e-936e-1cbf4109c0f3",
   "metadata": {
    "tags": []
   },
   "outputs": [],
   "source": [
    "# Function to convert timestamp string to numerical value\n",
    "def convert_to_numerical(timestamp_str):\n",
    "    timestamp_dt = datetime.strptime(timestamp_str, \"%Y-%m-%dT%H:%M:%S%z\")\n",
    "    return timestamp_dt.hour * 100 + timestamp_dt.minute"
   ]
  },
  {
   "cell_type": "code",
   "execution_count": 11,
   "id": "57a39251-8d96-4667-918a-0bb29215fcb5",
   "metadata": {
    "tags": []
   },
   "outputs": [],
   "source": [
    "# Iterate through the dictionary and modify each DataFrame\n",
    "from datetime import datetime\n",
    "for key, df in data_series.items():\n",
    "    df_copy = df.copy()\n",
    "    # Apply the custom function to the specified feature and create a new column\n",
    "    df_copy['sinusoidal_time'] = df_copy['timestamp'].apply(convert_to_sine_wave)\n",
    "    df_copy['numerical_time'] = df_copy['timestamp'].apply(convert_to_numerical)\n",
    "    data_series[key] = df_copy"
   ]
  },
  {
   "cell_type": "code",
   "execution_count": null,
   "id": "5453be9f-c55e-4f1e-b47a-382ee0289a3f",
   "metadata": {
    "tags": []
   },
   "outputs": [
    {
     "name": "stdout",
     "output_type": "stream",
     "text": [
      "series 67f5fc60e494  completed: 10 %\n",
      "series 67f5fc60e494  completed: 20 %\n",
      "series 67f5fc60e494  completed: 30 %\n",
      "series 67f5fc60e494  completed: 40 %\n",
      "series 67f5fc60e494  completed: 50 %\n",
      "series 67f5fc60e494  completed: 60 %\n",
      "series 67f5fc60e494  completed: 70 %\n",
      "series 67f5fc60e494  completed: 80 %\n",
      "series 67f5fc60e494  completed: 90 %\n",
      "series a9a2f7fac455  completed: 10 %\n",
      "series a9a2f7fac455  completed: 20 %\n",
      "series a9a2f7fac455  completed: 30 %\n",
      "series a9a2f7fac455  completed: 40 %\n",
      "series a9a2f7fac455  completed: 50 %\n",
      "series a9a2f7fac455  completed: 60 %\n",
      "series a9a2f7fac455  completed: 70 %\n",
      "series a9a2f7fac455  completed: 80 %\n",
      "series a9a2f7fac455  completed: 90 %\n",
      "series c6788e579967  completed: 10 %\n",
      "series c6788e579967  completed: 20 %\n",
      "series c6788e579967  completed: 30 %\n",
      "series c6788e579967  completed: 40 %\n",
      "series c6788e579967  completed: 50 %\n",
      "series c6788e579967  completed: 60 %\n",
      "series c6788e579967  completed: 70 %\n",
      "series c6788e579967  completed: 80 %\n",
      "series c6788e579967  completed: 90 %\n",
      "series d150801f3145  completed: 10 %\n",
      "series d150801f3145  completed: 20 %\n",
      "series d150801f3145  completed: 30 %\n",
      "series d150801f3145  completed: 40 %\n",
      "series d150801f3145  completed: 50 %\n",
      "series d150801f3145  completed: 60 %\n",
      "series d150801f3145  completed: 70 %\n",
      "series d150801f3145  completed: 80 %\n",
      "series d150801f3145  completed: 90 %\n",
      "series 72bbd1ac3edf  completed: 10 %\n",
      "series 72bbd1ac3edf  completed: 20 %\n",
      "series 72bbd1ac3edf  completed: 30 %\n",
      "series 72bbd1ac3edf  completed: 40 %\n",
      "series 72bbd1ac3edf  completed: 50 %\n",
      "series 72bbd1ac3edf  completed: 60 %\n",
      "series 72bbd1ac3edf  completed: 70 %\n",
      "series 72bbd1ac3edf  completed: 80 %\n",
      "series 72bbd1ac3edf  completed: 90 %\n",
      "series 55a47ff9dc8a  completed: 10 %\n",
      "series 55a47ff9dc8a  completed: 20 %\n",
      "series 55a47ff9dc8a  completed: 30 %\n",
      "series 55a47ff9dc8a  completed: 40 %\n",
      "series 55a47ff9dc8a  completed: 50 %\n",
      "series 55a47ff9dc8a  completed: 60 %\n",
      "series 55a47ff9dc8a  completed: 70 %\n",
      "series 55a47ff9dc8a  completed: 80 %\n",
      "series 55a47ff9dc8a  completed: 90 %\n",
      "series 08db4255286f  completed: 10 %\n",
      "series 08db4255286f  completed: 20 %\n",
      "series 08db4255286f  completed: 30 %\n",
      "series 08db4255286f  completed: 40 %\n",
      "series 08db4255286f  completed: 50 %\n",
      "series 08db4255286f  completed: 60 %\n",
      "series 08db4255286f  completed: 70 %\n",
      "series 08db4255286f  completed: 80 %\n",
      "series 08db4255286f  completed: 90 %\n",
      "series 0a96f4993bd7  completed: 10 %\n",
      "series 0a96f4993bd7  completed: 20 %\n",
      "series 0a96f4993bd7  completed: 30 %\n",
      "series 0a96f4993bd7  completed: 40 %\n",
      "series 0a96f4993bd7  completed: 50 %\n",
      "series 0a96f4993bd7  completed: 60 %\n",
      "series 0a96f4993bd7  completed: 70 %\n",
      "series 0a96f4993bd7  completed: 80 %\n",
      "series 0a96f4993bd7  completed: 90 %\n",
      "series 89bd631d1769  completed: 10 %\n",
      "series 89bd631d1769  completed: 20 %\n",
      "series 89bd631d1769  completed: 30 %\n",
      "series 89bd631d1769  completed: 40 %\n",
      "series 89bd631d1769  completed: 50 %\n",
      "series 89bd631d1769  completed: 60 %\n",
      "series 89bd631d1769  completed: 70 %\n",
      "series 89bd631d1769  completed: 80 %\n",
      "series 89bd631d1769  completed: 90 %\n",
      "series c535634d7dcd  completed: 10 %\n",
      "series c535634d7dcd  completed: 20 %\n",
      "series c535634d7dcd  completed: 30 %\n",
      "series c535634d7dcd  completed: 40 %\n",
      "series c535634d7dcd  completed: 50 %\n",
      "series c535634d7dcd  completed: 60 %\n",
      "series c535634d7dcd  completed: 70 %\n",
      "series c535634d7dcd  completed: 80 %\n",
      "series c535634d7dcd  completed: 90 %\n",
      "series 939932f1822d  completed: 10 %\n",
      "series 939932f1822d  completed: 20 %\n",
      "series 939932f1822d  completed: 30 %\n",
      "series 939932f1822d  completed: 40 %\n",
      "series 939932f1822d  completed: 50 %\n",
      "series 939932f1822d  completed: 60 %\n",
      "series 939932f1822d  completed: 70 %\n",
      "series 939932f1822d  completed: 80 %\n",
      "series 939932f1822d  completed: 90 %\n",
      "series d515236bdeec  completed: 10 %\n",
      "series d515236bdeec  completed: 20 %\n",
      "series d515236bdeec  completed: 30 %\n",
      "series d515236bdeec  completed: 40 %\n",
      "series d515236bdeec  completed: 50 %\n",
      "series d515236bdeec  completed: 60 %\n",
      "series d515236bdeec  completed: 70 %\n",
      "series d515236bdeec  completed: 80 %\n",
      "series d515236bdeec  completed: 90 %\n",
      "series 29c75c018220  completed: 10 %\n",
      "series 29c75c018220  completed: 20 %\n",
      "series 29c75c018220  completed: 30 %\n",
      "series 29c75c018220  completed: 40 %\n",
      "series 29c75c018220  completed: 50 %\n",
      "series 29c75c018220  completed: 60 %\n",
      "series 29c75c018220  completed: 70 %\n",
      "series 29c75c018220  completed: 80 %\n",
      "series 29c75c018220  completed: 90 %\n",
      "series a9e5f5314bcb  completed: 10 %\n",
      "series a9e5f5314bcb  completed: 20 %\n",
      "series a9e5f5314bcb  completed: 30 %\n",
      "series a9e5f5314bcb  completed: 40 %\n",
      "series a9e5f5314bcb  completed: 50 %\n",
      "series a9e5f5314bcb  completed: 60 %\n",
      "series a9e5f5314bcb  completed: 70 %\n",
      "series a9e5f5314bcb  completed: 80 %\n",
      "series a9e5f5314bcb  completed: 90 %\n",
      "series ca730dbf521d  completed: 10 %\n",
      "series ca730dbf521d  completed: 20 %\n",
      "series ca730dbf521d  completed: 30 %\n",
      "series ca730dbf521d  completed: 40 %\n",
      "series ca730dbf521d  completed: 50 %\n",
      "series ca730dbf521d  completed: 60 %\n",
      "series ca730dbf521d  completed: 70 %\n",
      "series ca730dbf521d  completed: 80 %\n",
      "series ca730dbf521d  completed: 90 %\n",
      "series 655f19eabf1e  completed: 10 %\n",
      "series 655f19eabf1e  completed: 20 %\n",
      "series 655f19eabf1e  completed: 30 %\n",
      "series 655f19eabf1e  completed: 40 %\n",
      "series 655f19eabf1e  completed: 50 %\n",
      "series 655f19eabf1e  completed: 60 %\n",
      "series 655f19eabf1e  completed: 70 %\n",
      "series 655f19eabf1e  completed: 80 %\n",
      "series 655f19eabf1e  completed: 90 %\n",
      "series 5acc9d63b5fd  completed: 10 %\n",
      "series 5acc9d63b5fd  completed: 20 %\n",
      "series 5acc9d63b5fd  completed: 30 %\n",
      "series 5acc9d63b5fd  completed: 40 %\n",
      "series 5acc9d63b5fd  completed: 50 %\n",
      "series 5acc9d63b5fd  completed: 60 %\n",
      "series 5acc9d63b5fd  completed: 70 %\n",
      "series 5acc9d63b5fd  completed: 80 %\n",
      "series 5acc9d63b5fd  completed: 90 %\n",
      "series 0cfc06c129cc  completed: 10 %\n",
      "series 0cfc06c129cc  completed: 20 %\n",
      "series 0cfc06c129cc  completed: 30 %\n",
      "series 0cfc06c129cc  completed: 40 %\n",
      "series 0cfc06c129cc  completed: 50 %\n",
      "series 0cfc06c129cc  completed: 60 %\n",
      "series 0cfc06c129cc  completed: 70 %\n",
      "series 0cfc06c129cc  completed: 80 %\n",
      "series 0cfc06c129cc  completed: 90 %\n"
     ]
    }
   ],
   "source": [
    "\n",
    "window_size = 50\n",
    "buffer_percentage = 10\n",
    "variable_list = ['anglez','enmo','sinusoidal_time','sinusoidal_time']\n",
    "windowed_dataset = {}\n",
    "for variable in variable_list:\n",
    "    windowed_dataset[variable] = pd.DataFrame()\n",
    "\n",
    "    for series in set(small_set_data[\"series_id\"]):\n",
    "     \n",
    "        windowed_series = create_sliding_windows_W_buffer(data_series[series],window_size = window_size,buffer=(window_size * buffer_percentage / 100),feature = variable)   \n",
    "        windowed_dataset[variable] = pd.concat([windowed_dataset[variable], windowed_series], ignore_index=True)"
   ]
  },
  {
   "cell_type": "code",
   "execution_count": null,
   "id": "30dc4548-7564-4a38-b142-f8859ac414bb",
   "metadata": {
    "tags": []
   },
   "outputs": [],
   "source": [
    "#Loading Data\n",
    "\n",
    "# Load data from the first CSV file\n",
    "#file_path1 = 'data/windowed_sequences/50_small_set_enmo_windowed.csv'\n",
    "\n",
    "#file_path2 = 'data/windowed_sequences/50_small_set_anglez_windowed.csv'\n",
    "\n",
    "#file1_data = pd.read_csv(file_path1)#, dtype=np.float32)\n",
    "\n",
    "# Set the first column as the index\n",
    "#file1_data.set_index(file1_data.columns[0], inplace=True)\n",
    "\n",
    "# Convert the DataFrame to a NumPy array\n",
    "drop_columns = [\"series_id\", \"global first step num\", \"global first timestamp\", \"awake\",\"wakeup\",\"fallasleep\",\"asleep\"]\n",
    "\n",
    "variable_data = []\n",
    "for variable in variable_list:\n",
    "    df_copy = windowed_dataset[variable].copy()\n",
    "    data_array = df_copy.drop(columns=drop_columns).values\n",
    "    variable_data.append(data_array)\n",
    "    \n",
    "#file1_array = file1_data.drop(columns=drop_columns).values\n",
    "\n",
    "# Load data from the second CSV file\n",
    "#file2_data = pd.read_csv(file_path2)\n",
    "\n",
    "#file2_array = file2_data.drop(columns=drop_columns).values\n",
    "df_copy = windowed_dataset[variable_list[0]].copy()\n",
    "data_identity_storage = df_copy[[\"series_id\", \"global first step num\", \"global first timestamp\"]]\n",
    "df_Y = df_copy.iloc[:, -4:]\n",
    "Y_all = df_Y.values\n",
    "# Check shapes\n",
    "for i in range(len(variable_data)-1):\n",
    "    assert variable_data[i].shape == variable_data[i+1].shape, \"Arrays should have the same shape\"\n",
    "\n",
    "\n",
    "# Create 3D array\n",
    "three_d_array = np.stack(variable_data, axis=2)\n"
   ]
  },
  {
   "cell_type": "code",
   "execution_count": null,
   "id": "00f766ed-d4e7-41cb-afc0-8a4c4c395a53",
   "metadata": {
    "tags": []
   },
   "outputs": [],
   "source": [
    "# Extract indices from the original 3D array\n",
    "indices_list = list(range(three_d_array.shape[0]))"
   ]
  },
  {
   "cell_type": "code",
   "execution_count": null,
   "id": "91797497-db71-420e-9000-62041565b026",
   "metadata": {
    "tags": []
   },
   "outputs": [],
   "source": [
    "\n",
    "\n",
    "# Split the data and indices into training and validation sets\n",
    "indices_train, indices_val, X_train, X_val, Y_train, Y_val = train_test_split(\n",
    "    indices_list, three_d_array, Y_all, test_size=0.2, random_state=42, stratify=Y_all\n",
    ")\n",
    "\n",
    "# Check the shapes of the training and validation sets\n",
    "print(\"indices_train shape:\", len(indices_train))\n",
    "print(\"X_train shape:\", X_train.shape)\n",
    "print(\"y_train shape:\", Y_train.shape)\n",
    "print(\"indices_val shape:\", len(indices_val))\n",
    "print(\"X_val shape:\", X_val.shape)\n",
    "print(\"y_val shape:\", Y_val.shape)"
   ]
  },
  {
   "cell_type": "code",
   "execution_count": null,
   "id": "5bccc233-5a6f-489b-850f-64294e13b218",
   "metadata": {},
   "outputs": [],
   "source": [
    "'''\n",
    "# Adjust the size of the subset based on your computational resources\n",
    "subset_percentage = 10\n",
    "subset_size = X_train.shape[0] // 100 * subset_percentage\n",
    "\n",
    "# Split the data into a subset and the rest\n",
    "subset_X, remaining_X, subset_Y, remaining_Y = train_test_split(X_train, Y_train, test_size=subset_size, random_state=42, stratify=Y_train)\n",
    "\n",
    "# Confirm the shapes of the subsets\n",
    "print(\"Subset X shape:\", subset_X.shape)\n",
    "print(\"Remaining X shape:\", remaining_X.shape)\n",
    "print(\"Subset y shape:\", subset_Y.shape)\n",
    "print(\"Remaining y shape:\", remaining_Y.shape)"
   ]
  },
  {
   "cell_type": "code",
   "execution_count": 6,
   "id": "34e56db9-703f-47c9-80e3-53f38df5b5e3",
   "metadata": {
    "scrolled": true
   },
   "outputs": [
    {
     "name": "stdout",
     "output_type": "stream",
     "text": [
      "Epoch 1/20\n",
      "329096/329097 [============================>.] - ETA: 0s - loss: 1.1113 - accuracy: 0.6036\n",
      "Epoch 1: val_loss improved from inf to 0.87397, saving model to model\\37_series_LSTM64_W_attention.h5\n",
      "329097/329097 [==============================] - 5020s 15ms/step - loss: 1.1113 - accuracy: 0.6036 - val_loss: 0.8740 - val_accuracy: 0.6648\n",
      "Epoch 2/20\n",
      "     9/329097 [..............................] - ETA: 1:15:10 - loss: 2.1365 - accuracy: 0.6285"
     ]
    },
    {
     "name": "stderr",
     "output_type": "stream",
     "text": [
      "C:\\Users\\19252\\.conda\\envs\\research\\Lib\\site-packages\\keras\\src\\engine\\training.py:3079: UserWarning: You are saving your model as an HDF5 file via `model.save()`. This file format is considered legacy. We recommend using instead the native Keras format, e.g. `model.save('my_model.keras')`.\n",
      "  saving_api.save_model(\n"
     ]
    },
    {
     "name": "stdout",
     "output_type": "stream",
     "text": [
      "329094/329097 [============================>.] - ETA: 0s - loss: 1.1423 - accuracy: 0.5858\n",
      "Epoch 2: val_loss did not improve from 0.87397\n",
      "329097/329097 [==============================] - 4841s 15ms/step - loss: 1.1422 - accuracy: 0.5858 - val_loss: 1.0700 - val_accuracy: 0.5297\n",
      "Epoch 3/20\n",
      "329097/329097 [==============================] - ETA: 0s - loss: 1.2416 - accuracy: 0.5249\n",
      "Epoch 3: val_loss did not improve from 0.87397\n",
      "329097/329097 [==============================] - 5124s 16ms/step - loss: 1.2416 - accuracy: 0.5249 - val_loss: 1.0465 - val_accuracy: 0.5773\n",
      "Epoch 4/20\n",
      "329096/329097 [============================>.] - ETA: 0s - loss: 1.2172 - accuracy: 0.5419\n",
      "Epoch 4: val_loss did not improve from 0.87397\n",
      "329097/329097 [==============================] - 5210s 16ms/step - loss: 1.2172 - accuracy: 0.5419 - val_loss: 1.1056 - val_accuracy: 0.5161\n",
      "82275/82275 [==============================] - 473s 6ms/step - loss: 0.8740 - accuracy: 0.6648\n",
      "Test Loss: 0.8739655613899231, Test Accuracy: 0.6647863984107971\n"
     ]
    }
   ],
   "source": [
    "#for tuning model configuration\n",
    "dataset_for_training = X_train\n",
    "labels_for_training = Y_train\n",
    "num_classes = labels_for_training.shape[1]\n",
    "\n",
    "# Assuming you have sequences (X) and labels (y) for training\n",
    "# X should be a 3D tensor with shape (num_samples, sequence_length, num_features)\n",
    "# y should be a 2D tensor with shape (num_samples, num_classes)\n",
    "\n",
    "sequence_length = dataset_for_training.shape[1]\n",
    "num_features = dataset_for_training.shape[2]\n",
    "\n",
    "# Define the LSTM model\n",
    "input_sequence = Input(shape=(sequence_length, num_features))\n",
    "#lstm_out = LSTM(units=64, return_sequences=True)(input_sequence)\n",
    "lstm_out = LSTM(units=64, return_sequences=False, recurrent_initializer='glorot_uniform', implementation=2)(input_sequence)\n",
    "\n",
    "\n",
    "# Define the attention mechanism\n",
    "attention = Attention()([lstm_out, lstm_out])\n",
    "\n",
    "# Concatenate the LSTM output and attention output\n",
    "merged = Concatenate(axis=-1)([lstm_out, attention])\n",
    "\n",
    "# Fully connected layer for final prediction\n",
    "output = Dense(num_classes, activation='softmax')(merged)\n",
    "\n",
    "# Create the hybrid model\n",
    "model = Model(inputs=input_sequence, outputs=output)\n",
    "\n",
    "# Compile the model\n",
    "model.compile(optimizer='adam', loss='categorical_crossentropy', metrics=['accuracy'])\n",
    "\n",
    "# Calculate class weights to handle imbalance\n",
    "class_weights = class_weight.compute_class_weight('balanced', classes=np.unique(np.argmax(labels_for_training, axis=1)), y=np.argmax(labels_for_training, axis=1))\n",
    "class_weights_dict = dict(enumerate(class_weights))\n",
    "\n",
    "# Define early stopping and TensorBoard callbacks\n",
    "early_stopping = EarlyStopping(monitor='val_loss', patience=3, restore_best_weights=True)\n",
    "tensorboard = TensorBoard(log_dir='./logs', histogram_freq=1, write_graph=True, write_images=True)\n",
    "\n",
    "# Define a ModelCheckpoint callback\n",
    "checkpoint = ModelCheckpoint(\n",
    "    filepath='model/37_series_LSTM64_W_attention.h5',\n",
    "    monitor='val_loss',\n",
    "    verbose=1,\n",
    "    save_best_only=True,\n",
    "    save_weights_only=False,\n",
    "    mode='min',\n",
    "    save_freq='epoch',\n",
    "    options=None  # Set options explicitly to None\n",
    ")\n",
    "\n",
    "# Train the model with class weights, early stopping, and TensorBoard\n",
    "#model.fit(subset_X, subset_Y, epochs=10, batch_size=32, validation_data=(X_val, Y_val), class_weight=class_weights_dict, callbacks=[early_stopping, tensorboard])\n",
    "train_dataset = tf.data.Dataset.from_tensor_slices((dataset_for_training, labels_for_training)).batch(32)\n",
    "val_dataset = tf.data.Dataset.from_tensor_slices((X_val, Y_val)).batch(32)\n",
    "\n",
    "model.fit(train_dataset, epochs=20, validation_data=val_dataset, class_weight=class_weights_dict, callbacks=[early_stopping, tensorboard, checkpoint])\n",
    "\n",
    "\n",
    "# Evaluate the model\n",
    "loss, accuracy = model.evaluate(X_val, Y_val)\n",
    "print(f'Test Loss: {loss}, Test Accuracy: {accuracy}')\n"
   ]
  },
  {
   "cell_type": "code",
   "execution_count": null,
   "id": "cf8fbc3a-33f4-446d-a505-81ebe1764f7c",
   "metadata": {},
   "outputs": [
    {
     "name": "stdout",
     "output_type": "stream",
     "text": [
      "Epoch 1/20\n",
      "10106/10106 [==============================] - ETA: 0s - loss: 1.0474 - accuracy: 0.5742\n",
      "Epoch 1: val_loss improved from inf to 1.04897, saving model to model\\model_one_series_LSTM128_W_attention.h5\n",
      "10106/10106 [==============================] - 314s 31ms/step - loss: 1.0474 - accuracy: 0.5742 - val_loss: 1.0490 - val_accuracy: 0.5644\n",
      "Epoch 2/20\n",
      "    7/10106 [..............................] - ETA: 4:27 - loss: 1.0160 - accuracy: 0.5536"
     ]
    },
    {
     "name": "stderr",
     "output_type": "stream",
     "text": [
      "C:\\Users\\19252\\.conda\\envs\\research\\Lib\\site-packages\\keras\\src\\engine\\training.py:3079: UserWarning: You are saving your model as an HDF5 file via `model.save()`. This file format is considered legacy. We recommend using instead the native Keras format, e.g. `model.save('my_model.keras')`.\n",
      "  saving_api.save_model(\n"
     ]
    },
    {
     "name": "stdout",
     "output_type": "stream",
     "text": [
      "10104/10106 [============================>.] - ETA: 0s - loss: 0.7765 - accuracy: 0.6925\n",
      "Epoch 2: val_loss improved from 1.04897 to 0.76349, saving model to model\\model_one_series_LSTM128_W_attention.h5\n",
      "10106/10106 [==============================] - 311s 31ms/step - loss: 0.7767 - accuracy: 0.6925 - val_loss: 0.7635 - val_accuracy: 0.6878\n",
      "Epoch 3/20\n",
      "10104/10106 [============================>.] - ETA: 0s - loss: 0.6598 - accuracy: 0.7415\n",
      "Epoch 3: val_loss did not improve from 0.76349\n",
      "10106/10106 [==============================] - 322s 32ms/step - loss: 0.6600 - accuracy: 0.7415 - val_loss: 0.8271 - val_accuracy: 0.6661\n",
      "Epoch 4/20\n",
      "10105/10106 [============================>.] - ETA: 0s - loss: 0.5959 - accuracy: 0.7746\n",
      "Epoch 4: val_loss improved from 0.76349 to 0.67467, saving model to model\\model_one_series_LSTM128_W_attention.h5\n",
      "10106/10106 [==============================] - 320s 32ms/step - loss: 0.5958 - accuracy: 0.7746 - val_loss: 0.6747 - val_accuracy: 0.7133\n",
      "Epoch 5/20\n",
      "10106/10106 [==============================] - ETA: 0s - loss: 0.5458 - accuracy: 0.7939\n",
      "Epoch 5: val_loss improved from 0.67467 to 0.57047, saving model to model\\model_one_series_LSTM128_W_attention.h5\n",
      "10106/10106 [==============================] - 319s 32ms/step - loss: 0.5458 - accuracy: 0.7939 - val_loss: 0.5705 - val_accuracy: 0.7700\n",
      "Epoch 6/20\n",
      "10106/10106 [==============================] - ETA: 0s - loss: 0.5181 - accuracy: 0.8097\n",
      "Epoch 6: val_loss improved from 0.57047 to 0.56871, saving model to model\\model_one_series_LSTM128_W_attention.h5\n",
      "10106/10106 [==============================] - 316s 31ms/step - loss: 0.5181 - accuracy: 0.8097 - val_loss: 0.5687 - val_accuracy: 0.7727\n",
      "Epoch 7/20\n",
      " 5344/10106 [==============>...............] - ETA: 2:16 - loss: 0.5044 - accuracy: 0.8176"
     ]
    }
   ],
   "source": [
    "#LSTM = 128\n",
    "\n",
    "#for tuning model configuration\n",
    "dataset_for_training = X_train\n",
    "labels_for_training = Y_train\n",
    "num_classes = labels_for_training.shape[1]\n",
    "\n",
    "# Assuming you have sequences (X) and labels (y) for training\n",
    "# X should be a 3D tensor with shape (num_samples, sequence_length, num_features)\n",
    "# y should be a 2D tensor with shape (num_samples, num_classes)\n",
    "\n",
    "sequence_length = dataset_for_training.shape[1]\n",
    "num_features = dataset_for_training.shape[2]\n",
    "\n",
    "# Define the LSTM model\n",
    "input_sequence = Input(shape=(sequence_length, num_features))\n",
    "#lstm_out = LSTM(units=64, return_sequences=True)(input_sequence)\n",
    "lstm_out = LSTM(units=128, return_sequences=False, recurrent_initializer='glorot_uniform', implementation=2)(input_sequence)\n",
    "\n",
    "\n",
    "# Define the attention mechanism\n",
    "attention = Attention()([lstm_out, lstm_out])\n",
    "\n",
    "# Concatenate the LSTM output and attention output\n",
    "merged = Concatenate(axis=-1)([lstm_out, attention])\n",
    "\n",
    "# Fully connected layer for final prediction\n",
    "output = Dense(num_classes, activation='softmax')(merged)\n",
    "\n",
    "# Create the hybrid model\n",
    "model = Model(inputs=input_sequence, outputs=output)\n",
    "\n",
    "# Compile the model\n",
    "model.compile(optimizer='adam', loss='categorical_crossentropy', metrics=['accuracy'])\n",
    "\n",
    "# Calculate class weights to handle imbalance\n",
    "class_weights = class_weight.compute_class_weight('balanced', classes=np.unique(np.argmax(labels_for_training, axis=1)), y=np.argmax(labels_for_training, axis=1))\n",
    "class_weights_dict = dict(enumerate(class_weights))\n",
    "\n",
    "# Define early stopping and TensorBoard callbacks\n",
    "early_stopping = EarlyStopping(monitor='val_loss', patience=3, restore_best_weights=True)\n",
    "tensorboard = TensorBoard(log_dir='./logs', histogram_freq=1, write_graph=True, write_images=True)\n",
    "\n",
    "# Define a ModelCheckpoint callback\n",
    "checkpoint = ModelCheckpoint(\n",
    "    filepath='model/model_one_series_LSTM128_W_attention.h5',\n",
    "    monitor='val_loss',\n",
    "    verbose=1,\n",
    "    save_best_only=True,\n",
    "    save_weights_only=False,\n",
    "    mode='min',\n",
    "    save_freq='epoch',\n",
    "    options=None  # Set options explicitly to None\n",
    ")\n",
    "\n",
    "# Train the model with class weights, early stopping, and TensorBoard\n",
    "#model.fit(subset_X, subset_Y, epochs=10, batch_size=32, validation_data=(X_val, Y_val), class_weight=class_weights_dict, callbacks=[early_stopping, tensorboard])\n",
    "train_dataset = tf.data.Dataset.from_tensor_slices((dataset_for_training, labels_for_training)).batch(32)\n",
    "val_dataset = tf.data.Dataset.from_tensor_slices((X_val, Y_val)).batch(32)\n",
    "\n",
    "model.fit(train_dataset, epochs=20, validation_data=val_dataset, class_weight=class_weights_dict, callbacks=[early_stopping, tensorboard, checkpoint])\n",
    "\n",
    "\n",
    "# Evaluate the model\n",
    "loss, accuracy = model.evaluate(X_val, Y_val)\n",
    "print(f'Test Loss: {loss}, Test Accuracy: {accuracy}')\n"
   ]
  },
  {
   "cell_type": "code",
   "execution_count": 9,
   "id": "42791798-bc76-429c-a039-85d8e1a59d3f",
   "metadata": {},
   "outputs": [
    {
     "name": "stdout",
     "output_type": "stream",
     "text": [
      "Epoch 1/20\n",
      "10106/10106 [==============================] - ETA: 0s - loss: 0.4708 - accuracy: 0.8244\n",
      "Epoch 1: val_loss improved from inf to 0.64284, saving model to model\\model_one_series_LSTM_W_attention.h5\n",
      "10106/10106 [==============================] - 411s 41ms/step - loss: 0.4708 - accuracy: 0.8244 - val_loss: 0.6428 - val_accuracy: 0.7562\n",
      "Epoch 2/20\n",
      "    3/10106 [..............................] - ETA: 4:55 - loss: 0.2779 - accuracy: 0.7500"
     ]
    },
    {
     "name": "stderr",
     "output_type": "stream",
     "text": [
      "C:\\Users\\19252\\.conda\\envs\\research\\Lib\\site-packages\\keras\\src\\engine\\training.py:3079: UserWarning: You are saving your model as an HDF5 file via `model.save()`. This file format is considered legacy. We recommend using instead the native Keras format, e.g. `model.save('my_model.keras')`.\n",
      "  saving_api.save_model(\n"
     ]
    },
    {
     "name": "stdout",
     "output_type": "stream",
     "text": [
      "10106/10106 [==============================] - ETA: 0s - loss: 0.4515 - accuracy: 0.8334\n",
      "Epoch 2: val_loss improved from 0.64284 to 0.55632, saving model to model\\model_one_series_LSTM_W_attention.h5\n",
      "10106/10106 [==============================] - 420s 42ms/step - loss: 0.4515 - accuracy: 0.8334 - val_loss: 0.5563 - val_accuracy: 0.7928\n",
      "Epoch 3/20\n",
      "10104/10106 [============================>.] - ETA: 1s - loss: 0.4421 - accuracy: 0.8442\n",
      "Epoch 3: val_loss improved from 0.55632 to 0.53572, saving model to model\\model_one_series_LSTM_W_attention.h5\n",
      "10106/10106 [==============================] - 7457s 738ms/step - loss: 0.4424 - accuracy: 0.8442 - val_loss: 0.5357 - val_accuracy: 0.8068\n",
      "Epoch 4/20\n",
      "10104/10106 [============================>.] - ETA: 0s - loss: 0.4275 - accuracy: 0.8484\n",
      "Epoch 4: val_loss improved from 0.53572 to 0.52055, saving model to model\\model_one_series_LSTM_W_attention.h5\n",
      "10106/10106 [==============================] - 260s 26ms/step - loss: 0.4278 - accuracy: 0.8484 - val_loss: 0.5205 - val_accuracy: 0.8234\n",
      "Epoch 5/20\n",
      "10106/10106 [==============================] - ETA: 0s - loss: 0.4118 - accuracy: 0.8549\n",
      "Epoch 5: val_loss did not improve from 0.52055\n",
      "10106/10106 [==============================] - 256s 25ms/step - loss: 0.4118 - accuracy: 0.8549 - val_loss: 0.5561 - val_accuracy: 0.7758\n",
      "Epoch 6/20\n",
      "10106/10106 [==============================] - ETA: 0s - loss: 0.4110 - accuracy: 0.8516\n",
      "Epoch 6: val_loss improved from 0.52055 to 0.50273, saving model to model\\model_one_series_LSTM_W_attention.h5\n",
      "10106/10106 [==============================] - 264s 26ms/step - loss: 0.4110 - accuracy: 0.8516 - val_loss: 0.5027 - val_accuracy: 0.7857\n",
      "Epoch 7/20\n",
      "10105/10106 [============================>.] - ETA: 0s - loss: 0.4287 - accuracy: 0.8474\n",
      "Epoch 7: val_loss improved from 0.50273 to 0.39457, saving model to model\\model_one_series_LSTM_W_attention.h5\n",
      "10106/10106 [==============================] - 270s 27ms/step - loss: 0.4287 - accuracy: 0.8474 - val_loss: 0.3946 - val_accuracy: 0.8484\n",
      "Epoch 8/20\n",
      "10106/10106 [==============================] - ETA: 0s - loss: 0.4037 - accuracy: 0.8630\n",
      "Epoch 8: val_loss did not improve from 0.39457\n",
      "10106/10106 [==============================] - 275s 27ms/step - loss: 0.4037 - accuracy: 0.8630 - val_loss: 0.5590 - val_accuracy: 0.7682\n",
      "Epoch 9/20\n",
      "10105/10106 [============================>.] - ETA: 0s - loss: 0.3864 - accuracy: 0.8683\n",
      "Epoch 9: val_loss did not improve from 0.39457\n",
      "10106/10106 [==============================] - 278s 28ms/step - loss: 0.3863 - accuracy: 0.8683 - val_loss: 0.4856 - val_accuracy: 0.7967\n",
      "Epoch 10/20\n",
      "10105/10106 [============================>.] - ETA: 0s - loss: 0.3908 - accuracy: 0.8648\n",
      "Epoch 10: val_loss did not improve from 0.39457\n",
      "10106/10106 [==============================] - 263s 26ms/step - loss: 0.3908 - accuracy: 0.8648 - val_loss: 0.3979 - val_accuracy: 0.8630\n"
     ]
    },
    {
     "data": {
      "text/plain": [
       "<keras.src.callbacks.History at 0x1d209188fd0>"
      ]
     },
     "execution_count": 9,
     "metadata": {},
     "output_type": "execute_result"
    }
   ],
   "source": [
    "loaded_model = load_model('model/model_one_series_LSTM128_W_attention.h5')\n",
    "\n",
    "#for tuning model configuration\n",
    "dataset_for_training = X_train\n",
    "labels_for_training = Y_train\n",
    "\n",
    "# Calculate class weights to handle imbalance\n",
    "class_weights = class_weight.compute_class_weight('balanced', classes=np.unique(np.argmax(labels_for_training, axis=1)), y=np.argmax(labels_for_training, axis=1))\n",
    "class_weights_dict = dict(enumerate(class_weights))\n",
    "\n",
    "# Define early stopping and TensorBoard callbacks\n",
    "early_stopping = EarlyStopping(monitor='val_loss', patience=3, restore_best_weights=True)\n",
    "tensorboard = TensorBoard(log_dir='./logs', histogram_freq=1, write_graph=True, write_images=True)\n",
    "\n",
    "# Define a ModelCheckpoint callback\n",
    "checkpoint = ModelCheckpoint(\n",
    "    filepath='model/model_one_series_LSTM_W_attention.h5',\n",
    "    monitor='val_loss',\n",
    "    verbose=1,\n",
    "    save_best_only=True,\n",
    "    save_weights_only=False,\n",
    "    mode='min',\n",
    "    save_freq='epoch',\n",
    "    options=None  # Set options explicitly to None\n",
    ")\n",
    "\n",
    "# Train the model with class weights, early stopping, and TensorBoard\n",
    "#model.fit(subset_X, subset_Y, epochs=10, batch_size=32, validation_data=(X_val, Y_val), class_weight=class_weights_dict, callbacks=[early_stopping, tensorboard])\n",
    "train_dataset = tf.data.Dataset.from_tensor_slices((dataset_for_training, labels_for_training)).batch(32)\n",
    "val_dataset = tf.data.Dataset.from_tensor_slices((X_val, Y_val)).batch(32)\n",
    "\n",
    "loaded_model.fit(train_dataset, epochs=20, validation_data=val_dataset, class_weight=class_weights_dict, callbacks=[early_stopping, tensorboard, checkpoint])\n"
   ]
  },
  {
   "cell_type": "code",
   "execution_count": 10,
   "id": "f1abf72d-ffe1-4f75-886e-f7370777d673",
   "metadata": {},
   "outputs": [
    {
     "name": "stdout",
     "output_type": "stream",
     "text": [
      "Epoch 1/20\n",
      "10105/10106 [============================>.] - ETA: 0s - loss: 0.4708 - accuracy: 0.8244\n",
      "Epoch 1: val_loss improved from inf to 0.64284, saving model to model\\model_one_series_LSTM_W_attention.h5\n",
      "10106/10106 [==============================] - 248s 24ms/step - loss: 0.4708 - accuracy: 0.8244 - val_loss: 0.6428 - val_accuracy: 0.7562\n",
      "Epoch 2/20\n",
      "    6/10106 [..............................] - ETA: 4:12 - loss: 0.3416 - accuracy: 0.7344"
     ]
    },
    {
     "name": "stderr",
     "output_type": "stream",
     "text": [
      "C:\\Users\\19252\\.conda\\envs\\research\\Lib\\site-packages\\keras\\src\\engine\\training.py:3079: UserWarning: You are saving your model as an HDF5 file via `model.save()`. This file format is considered legacy. We recommend using instead the native Keras format, e.g. `model.save('my_model.keras')`.\n",
      "  saving_api.save_model(\n"
     ]
    },
    {
     "name": "stdout",
     "output_type": "stream",
     "text": [
      "10105/10106 [============================>.] - ETA: 0s - loss: 0.4516 - accuracy: 0.8334\n",
      "Epoch 2: val_loss improved from 0.64284 to 0.55632, saving model to model\\model_one_series_LSTM_W_attention.h5\n",
      "10106/10106 [==============================] - 257s 25ms/step - loss: 0.4515 - accuracy: 0.8334 - val_loss: 0.5563 - val_accuracy: 0.7928\n",
      "Epoch 3/20\n",
      "10105/10106 [============================>.] - ETA: 0s - loss: 0.4424 - accuracy: 0.8442\n",
      "Epoch 3: val_loss improved from 0.55632 to 0.53572, saving model to model\\model_one_series_LSTM_W_attention.h5\n",
      "10106/10106 [==============================] - 257s 25ms/step - loss: 0.4424 - accuracy: 0.8442 - val_loss: 0.5357 - val_accuracy: 0.8068\n",
      "Epoch 4/20\n",
      "10105/10106 [============================>.] - ETA: 0s - loss: 0.4278 - accuracy: 0.8484\n",
      "Epoch 4: val_loss improved from 0.53572 to 0.52055, saving model to model\\model_one_series_LSTM_W_attention.h5\n",
      "10106/10106 [==============================] - 267s 26ms/step - loss: 0.4278 - accuracy: 0.8484 - val_loss: 0.5205 - val_accuracy: 0.8234\n",
      "Epoch 5/20\n",
      "10106/10106 [==============================] - ETA: 0s - loss: 0.4118 - accuracy: 0.8549\n",
      "Epoch 5: val_loss did not improve from 0.52055\n",
      "10106/10106 [==============================] - 256s 25ms/step - loss: 0.4118 - accuracy: 0.8549 - val_loss: 0.5561 - val_accuracy: 0.7758\n",
      "Epoch 6/20\n",
      "10106/10106 [==============================] - ETA: 0s - loss: 0.4110 - accuracy: 0.8516\n",
      "Epoch 6: val_loss improved from 0.52055 to 0.50273, saving model to model\\model_one_series_LSTM_W_attention.h5\n",
      "10106/10106 [==============================] - 261s 26ms/step - loss: 0.4110 - accuracy: 0.8516 - val_loss: 0.5027 - val_accuracy: 0.7857\n",
      "Epoch 7/20\n",
      "10106/10106 [==============================] - ETA: 0s - loss: 0.4287 - accuracy: 0.8474\n",
      "Epoch 7: val_loss improved from 0.50273 to 0.39457, saving model to model\\model_one_series_LSTM_W_attention.h5\n",
      "10106/10106 [==============================] - 265s 26ms/step - loss: 0.4287 - accuracy: 0.8474 - val_loss: 0.3946 - val_accuracy: 0.8484\n",
      "Epoch 8/20\n",
      "10106/10106 [==============================] - ETA: 0s - loss: 0.4037 - accuracy: 0.8630\n",
      "Epoch 8: val_loss did not improve from 0.39457\n",
      "10106/10106 [==============================] - 294s 29ms/step - loss: 0.4037 - accuracy: 0.8630 - val_loss: 0.5590 - val_accuracy: 0.7682\n",
      "Epoch 9/20\n",
      "10105/10106 [============================>.] - ETA: 0s - loss: 0.3864 - accuracy: 0.8683\n",
      "Epoch 9: val_loss did not improve from 0.39457\n",
      "10106/10106 [==============================] - 302s 30ms/step - loss: 0.3863 - accuracy: 0.8683 - val_loss: 0.4856 - val_accuracy: 0.7967\n",
      "Epoch 10/20\n",
      "10106/10106 [==============================] - ETA: 0s - loss: 0.3908 - accuracy: 0.8648\n",
      "Epoch 10: val_loss did not improve from 0.39457\n",
      "10106/10106 [==============================] - 286s 28ms/step - loss: 0.3908 - accuracy: 0.8648 - val_loss: 0.3979 - val_accuracy: 0.8630\n"
     ]
    },
    {
     "data": {
      "text/plain": [
       "<keras.src.callbacks.History at 0x1d25c920ed0>"
      ]
     },
     "execution_count": 10,
     "metadata": {},
     "output_type": "execute_result"
    }
   ],
   "source": [
    "loaded_model = load_model('model/model_one_series_LSTM128_W_attention.h5')\n",
    "\n",
    "#for tuning model configuration\n",
    "dataset_for_training = X_train\n",
    "labels_for_training = Y_train\n",
    "\n",
    "# Calculate class weights to handle imbalance\n",
    "class_weights = class_weight.compute_class_weight('balanced', classes=np.unique(np.argmax(labels_for_training, axis=1)), y=np.argmax(labels_for_training, axis=1))\n",
    "class_weights_dict = dict(enumerate(class_weights))\n",
    "\n",
    "# Define early stopping and TensorBoard callbacks\n",
    "early_stopping = EarlyStopping(monitor='val_loss', patience=3, restore_best_weights=True)\n",
    "tensorboard = TensorBoard(log_dir='./logs', histogram_freq=1, write_graph=True, write_images=True)\n",
    "\n",
    "# Define a ModelCheckpoint callback\n",
    "checkpoint = ModelCheckpoint(\n",
    "    filepath='model/model_one_series_LSTM_W_attention.h5',\n",
    "    monitor='val_loss',\n",
    "    verbose=1,\n",
    "    save_best_only=True,\n",
    "    save_weights_only=False,\n",
    "    mode='min',\n",
    "    save_freq='epoch',\n",
    "    options=None  # Set options explicitly to None\n",
    ")\n",
    "\n",
    "# Train the model with class weights, early stopping, and TensorBoard\n",
    "#model.fit(subset_X, subset_Y, epochs=10, batch_size=32, validation_data=(X_val, Y_val), class_weight=class_weights_dict, callbacks=[early_stopping, tensorboard])\n",
    "train_dataset = tf.data.Dataset.from_tensor_slices((dataset_for_training, labels_for_training)).batch(32)\n",
    "val_dataset = tf.data.Dataset.from_tensor_slices((X_val, Y_val)).batch(32)\n",
    "\n",
    "loaded_model.fit(train_dataset, epochs=20, validation_data=val_dataset, class_weight=class_weights_dict, callbacks=[early_stopping, tensorboard, checkpoint])\n"
   ]
  },
  {
   "cell_type": "code",
   "execution_count": 11,
   "id": "ce62a846-531c-40b9-90bb-f3ee78adadab",
   "metadata": {},
   "outputs": [
    {
     "name": "stdout",
     "output_type": "stream",
     "text": [
      "Epoch 1/30\n",
      "10102/10106 [============================>.] - ETA: 0s - loss: 1.1102 - accuracy: 0.5321\n",
      "Epoch 1: val_loss improved from inf to 1.10313, saving model to model\\model_one_series_LSTM32_W_attention.h5\n",
      "10106/10106 [==============================] - 118s 12ms/step - loss: 1.1102 - accuracy: 0.5321 - val_loss: 1.1031 - val_accuracy: 0.4972\n",
      "Epoch 2/30\n",
      "   15/10106 [..............................] - ETA: 2:05 - loss: 0.7805 - accuracy: 0.4458"
     ]
    },
    {
     "name": "stderr",
     "output_type": "stream",
     "text": [
      "C:\\Users\\19252\\.conda\\envs\\research\\Lib\\site-packages\\keras\\src\\engine\\training.py:3079: UserWarning: You are saving your model as an HDF5 file via `model.save()`. This file format is considered legacy. We recommend using instead the native Keras format, e.g. `model.save('my_model.keras')`.\n",
      "  saving_api.save_model(\n"
     ]
    },
    {
     "name": "stdout",
     "output_type": "stream",
     "text": [
      "10105/10106 [============================>.] - ETA: 0s - loss: 0.9114 - accuracy: 0.6257\n",
      "Epoch 2: val_loss improved from 1.10313 to 1.00430, saving model to model\\model_one_series_LSTM32_W_attention.h5\n",
      "10106/10106 [==============================] - 117s 12ms/step - loss: 0.9114 - accuracy: 0.6257 - val_loss: 1.0043 - val_accuracy: 0.5861\n",
      "Epoch 3/30\n",
      "10103/10106 [============================>.] - ETA: 0s - loss: 0.7854 - accuracy: 0.6882\n",
      "Epoch 3: val_loss improved from 1.00430 to 0.83949, saving model to model\\model_one_series_LSTM32_W_attention.h5\n",
      "10106/10106 [==============================] - 118s 12ms/step - loss: 0.7855 - accuracy: 0.6882 - val_loss: 0.8395 - val_accuracy: 0.6416\n",
      "Epoch 4/30\n",
      "10104/10106 [============================>.] - ETA: 0s - loss: 0.7302 - accuracy: 0.7150\n",
      "Epoch 4: val_loss improved from 0.83949 to 0.76207, saving model to model\\model_one_series_LSTM32_W_attention.h5\n",
      "10106/10106 [==============================] - 117s 12ms/step - loss: 0.7304 - accuracy: 0.7150 - val_loss: 0.7621 - val_accuracy: 0.7270\n",
      "Epoch 5/30\n",
      "10101/10106 [============================>.] - ETA: 0s - loss: 0.6953 - accuracy: 0.7332\n",
      "Epoch 5: val_loss did not improve from 0.76207\n",
      "10106/10106 [==============================] - 118s 12ms/step - loss: 0.6958 - accuracy: 0.7332 - val_loss: 0.7685 - val_accuracy: 0.7257\n",
      "Epoch 6/30\n",
      "10105/10106 [============================>.] - ETA: 0s - loss: 0.6628 - accuracy: 0.7465\n",
      "Epoch 6: val_loss improved from 0.76207 to 0.72350, saving model to model\\model_one_series_LSTM32_W_attention.h5\n",
      "10106/10106 [==============================] - 118s 12ms/step - loss: 0.6628 - accuracy: 0.7465 - val_loss: 0.7235 - val_accuracy: 0.7252\n",
      "Epoch 7/30\n",
      "10106/10106 [==============================] - ETA: 0s - loss: 0.6371 - accuracy: 0.7640\n",
      "Epoch 7: val_loss improved from 0.72350 to 0.64947, saving model to model\\model_one_series_LSTM32_W_attention.h5\n",
      "10106/10106 [==============================] - 118s 12ms/step - loss: 0.6371 - accuracy: 0.7640 - val_loss: 0.6495 - val_accuracy: 0.7473\n",
      "Epoch 8/30\n",
      "10103/10106 [============================>.] - ETA: 0s - loss: 0.6049 - accuracy: 0.7737\n",
      "Epoch 8: val_loss did not improve from 0.64947\n",
      "10106/10106 [==============================] - 118s 12ms/step - loss: 0.6051 - accuracy: 0.7737 - val_loss: 0.7450 - val_accuracy: 0.6825\n",
      "Epoch 9/30\n",
      "10105/10106 [============================>.] - ETA: 0s - loss: 0.6067 - accuracy: 0.7687\n",
      "Epoch 9: val_loss improved from 0.64947 to 0.64890, saving model to model\\model_one_series_LSTM32_W_attention.h5\n",
      "10106/10106 [==============================] - 118s 12ms/step - loss: 0.6067 - accuracy: 0.7686 - val_loss: 0.6489 - val_accuracy: 0.7726\n",
      "Epoch 10/30\n",
      "10106/10106 [==============================] - ETA: 0s - loss: 0.5761 - accuracy: 0.7815\n",
      "Epoch 10: val_loss improved from 0.64890 to 0.57344, saving model to model\\model_one_series_LSTM32_W_attention.h5\n",
      "10106/10106 [==============================] - 118s 12ms/step - loss: 0.5761 - accuracy: 0.7815 - val_loss: 0.5734 - val_accuracy: 0.7726\n",
      "Epoch 11/30\n",
      "10101/10106 [============================>.] - ETA: 0s - loss: 0.5786 - accuracy: 0.7838\n",
      "Epoch 11: val_loss did not improve from 0.57344\n",
      "10106/10106 [==============================] - 119s 12ms/step - loss: 0.5792 - accuracy: 0.7838 - val_loss: 0.6735 - val_accuracy: 0.7416\n",
      "Epoch 12/30\n",
      "10104/10106 [============================>.] - ETA: 0s - loss: 0.5646 - accuracy: 0.7817\n",
      "Epoch 12: val_loss did not improve from 0.57344\n",
      "10106/10106 [==============================] - 118s 12ms/step - loss: 0.5648 - accuracy: 0.7817 - val_loss: 0.5749 - val_accuracy: 0.7872\n",
      "Epoch 13/30\n",
      "10103/10106 [============================>.] - ETA: 0s - loss: 0.5589 - accuracy: 0.7961\n",
      "Epoch 13: val_loss did not improve from 0.57344\n",
      "10106/10106 [==============================] - 119s 12ms/step - loss: 0.5591 - accuracy: 0.7961 - val_loss: 0.7122 - val_accuracy: 0.6913\n",
      "2527/2527 [==============================] - 10s 4ms/step - loss: 0.5734 - accuracy: 0.7726\n",
      "Test Loss: 0.5734410881996155, Test Accuracy: 0.7726446390151978\n"
     ]
    }
   ],
   "source": [
    "#LSTM = 32\n",
    "\n",
    "#for tuning model configuration\n",
    "dataset_for_training = X_train\n",
    "labels_for_training = Y_train\n",
    "num_classes = labels_for_training.shape[1]\n",
    "\n",
    "# Assuming you have sequences (X) and labels (y) for training\n",
    "# X should be a 3D tensor with shape (num_samples, sequence_length, num_features)\n",
    "# y should be a 2D tensor with shape (num_samples, num_classes)\n",
    "\n",
    "sequence_length = dataset_for_training.shape[1]\n",
    "num_features = dataset_for_training.shape[2]\n",
    "\n",
    "# Define the LSTM model\n",
    "input_sequence = Input(shape=(sequence_length, num_features))\n",
    "#lstm_out = LSTM(units=64, return_sequences=True)(input_sequence)\n",
    "lstm_out = LSTM(units=32, return_sequences=False, recurrent_initializer='glorot_uniform', implementation=2)(input_sequence)\n",
    "\n",
    "\n",
    "# Define the attention mechanism\n",
    "attention = Attention()([lstm_out, lstm_out])\n",
    "\n",
    "# Concatenate the LSTM output and attention output\n",
    "merged = Concatenate(axis=-1)([lstm_out, attention])\n",
    "\n",
    "# Fully connected layer for final prediction\n",
    "output = Dense(num_classes, activation='softmax')(merged)\n",
    "\n",
    "# Create the hybrid model\n",
    "model = Model(inputs=input_sequence, outputs=output)\n",
    "\n",
    "# Compile the model\n",
    "model.compile(optimizer='adam', loss='categorical_crossentropy', metrics=['accuracy'])\n",
    "\n",
    "# Calculate class weights to handle imbalance\n",
    "class_weights = class_weight.compute_class_weight('balanced', classes=np.unique(np.argmax(labels_for_training, axis=1)), y=np.argmax(labels_for_training, axis=1))\n",
    "class_weights_dict = dict(enumerate(class_weights))\n",
    "\n",
    "# Define early stopping and TensorBoard callbacks\n",
    "early_stopping = EarlyStopping(monitor='val_loss', patience=3, restore_best_weights=True)\n",
    "tensorboard = TensorBoard(log_dir='./logs', histogram_freq=1, write_graph=True, write_images=True)\n",
    "\n",
    "# Define a ModelCheckpoint callback\n",
    "checkpoint = ModelCheckpoint(\n",
    "    filepath='model/model_one_series_LSTM32_W_attention.h5',\n",
    "    monitor='val_loss',\n",
    "    verbose=1,\n",
    "    save_best_only=True,\n",
    "    save_weights_only=False,\n",
    "    mode='min',\n",
    "    save_freq='epoch',\n",
    "    options=None  # Set options explicitly to None\n",
    ")\n",
    "\n",
    "# Train the model with class weights, early stopping, and TensorBoard\n",
    "#model.fit(subset_X, subset_Y, epochs=10, batch_size=32, validation_data=(X_val, Y_val), class_weight=class_weights_dict, callbacks=[early_stopping, tensorboard])\n",
    "train_dataset = tf.data.Dataset.from_tensor_slices((dataset_for_training, labels_for_training)).batch(32)\n",
    "val_dataset = tf.data.Dataset.from_tensor_slices((X_val, Y_val)).batch(32)\n",
    "\n",
    "model.fit(train_dataset, epochs=30, validation_data=val_dataset, class_weight=class_weights_dict, callbacks=[early_stopping, tensorboard, checkpoint])\n",
    "\n",
    "\n",
    "# Evaluate the model\n",
    "loss, accuracy = model.evaluate(X_val, Y_val)\n",
    "print(f'Test Loss: {loss}, Test Accuracy: {accuracy}')\n"
   ]
  },
  {
   "cell_type": "code",
   "execution_count": 12,
   "id": "d04ebbde-7f8d-4bdc-acbe-414a961ba11b",
   "metadata": {},
   "outputs": [
    {
     "name": "stdout",
     "output_type": "stream",
     "text": [
      "Epoch 1/30\n",
      "10106/10106 [==============================] - ETA: 0s - loss: 1.0771 - accuracy: 0.5377\n",
      "Epoch 1: val_loss improved from inf to 1.16018, saving model to model\\model_one_series_LSTM256_W_attention.h5\n",
      "10106/10106 [==============================] - 119s 12ms/step - loss: 1.0771 - accuracy: 0.5377 - val_loss: 1.1602 - val_accuracy: 0.4150\n",
      "Epoch 2/30\n",
      "   11/10106 [..............................] - ETA: 1:53 - loss: 0.8809 - accuracy: 0.4119"
     ]
    },
    {
     "name": "stderr",
     "output_type": "stream",
     "text": [
      "C:\\Users\\19252\\.conda\\envs\\research\\Lib\\site-packages\\keras\\src\\engine\\training.py:3079: UserWarning: You are saving your model as an HDF5 file via `model.save()`. This file format is considered legacy. We recommend using instead the native Keras format, e.g. `model.save('my_model.keras')`.\n",
      "  saving_api.save_model(\n"
     ]
    },
    {
     "name": "stdout",
     "output_type": "stream",
     "text": [
      "10102/10106 [============================>.] - ETA: 0s - loss: 0.8545 - accuracy: 0.6343\n",
      "Epoch 2: val_loss improved from 1.16018 to 0.96351, saving model to model\\model_one_series_LSTM256_W_attention.h5\n",
      "10106/10106 [==============================] - 117s 12ms/step - loss: 0.8546 - accuracy: 0.6343 - val_loss: 0.9635 - val_accuracy: 0.6134\n",
      "Epoch 3/30\n",
      "10104/10106 [============================>.] - ETA: 0s - loss: 0.7542 - accuracy: 0.6829\n",
      "Epoch 3: val_loss improved from 0.96351 to 0.81235, saving model to model\\model_one_series_LSTM256_W_attention.h5\n",
      "10106/10106 [==============================] - 117s 12ms/step - loss: 0.7544 - accuracy: 0.6829 - val_loss: 0.8123 - val_accuracy: 0.6334\n",
      "Epoch 4/30\n",
      "10103/10106 [============================>.] - ETA: 0s - loss: 0.6825 - accuracy: 0.7237\n",
      "Epoch 4: val_loss did not improve from 0.81235\n",
      "10106/10106 [==============================] - 118s 12ms/step - loss: 0.6827 - accuracy: 0.7237 - val_loss: 1.0416 - val_accuracy: 0.5479\n",
      "Epoch 5/30\n",
      "10102/10106 [============================>.] - ETA: 0s - loss: 0.6387 - accuracy: 0.7428\n",
      "Epoch 5: val_loss improved from 0.81235 to 0.65090, saving model to model\\model_one_series_LSTM256_W_attention.h5\n",
      "10106/10106 [==============================] - 118s 12ms/step - loss: 0.6389 - accuracy: 0.7428 - val_loss: 0.6509 - val_accuracy: 0.7192\n",
      "Epoch 6/30\n",
      "10106/10106 [==============================] - ETA: 0s - loss: 0.6114 - accuracy: 0.7567\n",
      "Epoch 6: val_loss did not improve from 0.65090\n",
      "10106/10106 [==============================] - 117s 12ms/step - loss: 0.6114 - accuracy: 0.7567 - val_loss: 0.7280 - val_accuracy: 0.6821\n",
      "Epoch 7/30\n",
      "10102/10106 [============================>.] - ETA: 0s - loss: 0.5954 - accuracy: 0.7704\n",
      "Epoch 7: val_loss improved from 0.65090 to 0.62040, saving model to model\\model_one_series_LSTM256_W_attention.h5\n",
      "10106/10106 [==============================] - 119s 12ms/step - loss: 0.5956 - accuracy: 0.7704 - val_loss: 0.6204 - val_accuracy: 0.7749\n",
      "Epoch 8/30\n",
      "10101/10106 [============================>.] - ETA: 0s - loss: 0.5872 - accuracy: 0.7782\n",
      "Epoch 8: val_loss improved from 0.62040 to 0.57732, saving model to model\\model_one_series_LSTM256_W_attention.h5\n",
      "10106/10106 [==============================] - 118s 12ms/step - loss: 0.5877 - accuracy: 0.7782 - val_loss: 0.5773 - val_accuracy: 0.7594\n",
      "Epoch 9/30\n",
      "10106/10106 [==============================] - ETA: 0s - loss: 0.5618 - accuracy: 0.7877\n",
      "Epoch 9: val_loss did not improve from 0.57732\n",
      "10106/10106 [==============================] - 118s 12ms/step - loss: 0.5618 - accuracy: 0.7877 - val_loss: 0.6235 - val_accuracy: 0.7482\n",
      "Epoch 10/30\n",
      "10103/10106 [============================>.] - ETA: 0s - loss: 0.5462 - accuracy: 0.8015\n",
      "Epoch 10: val_loss did not improve from 0.57732\n",
      "10106/10106 [==============================] - 117s 12ms/step - loss: 0.5464 - accuracy: 0.8015 - val_loss: 0.6622 - val_accuracy: 0.7215\n",
      "Epoch 11/30\n",
      "10106/10106 [==============================] - ETA: 0s - loss: 0.5503 - accuracy: 0.7946\n",
      "Epoch 11: val_loss did not improve from 0.57732\n",
      "10106/10106 [==============================] - 118s 12ms/step - loss: 0.5503 - accuracy: 0.7946 - val_loss: 0.7761 - val_accuracy: 0.7146\n",
      "2527/2527 [==============================] - 11s 4ms/step - loss: 0.5773 - accuracy: 0.7594\n",
      "Test Loss: 0.5773195624351501, Test Accuracy: 0.7594221234321594\n"
     ]
    }
   ],
   "source": [
    "#LSTM = 256\n",
    "\n",
    "#for tuning model configuration\n",
    "dataset_for_training = X_train\n",
    "labels_for_training = Y_train\n",
    "num_classes = labels_for_training.shape[1]\n",
    "\n",
    "# Assuming you have sequences (X) and labels (y) for training\n",
    "# X should be a 3D tensor with shape (num_samples, sequence_length, num_features)\n",
    "# y should be a 2D tensor with shape (num_samples, num_classes)\n",
    "\n",
    "sequence_length = dataset_for_training.shape[1]\n",
    "num_features = dataset_for_training.shape[2]\n",
    "\n",
    "# Define the LSTM model\n",
    "input_sequence = Input(shape=(sequence_length, num_features))\n",
    "#lstm_out = LSTM(units=64, return_sequences=True)(input_sequence)\n",
    "lstm_out = LSTM(units=32, return_sequences=False, recurrent_initializer='glorot_uniform', implementation=2)(input_sequence)\n",
    "\n",
    "\n",
    "# Define the attention mechanism\n",
    "attention = Attention()([lstm_out, lstm_out])\n",
    "\n",
    "# Concatenate the LSTM output and attention output\n",
    "merged = Concatenate(axis=-1)([lstm_out, attention])\n",
    "\n",
    "# Fully connected layer for final prediction\n",
    "output = Dense(num_classes, activation='softmax')(merged)\n",
    "\n",
    "# Create the hybrid model\n",
    "model = Model(inputs=input_sequence, outputs=output)\n",
    "\n",
    "# Compile the model\n",
    "model.compile(optimizer='adam', loss='categorical_crossentropy', metrics=['accuracy'])\n",
    "\n",
    "# Calculate class weights to handle imbalance\n",
    "class_weights = class_weight.compute_class_weight('balanced', classes=np.unique(np.argmax(labels_for_training, axis=1)), y=np.argmax(labels_for_training, axis=1))\n",
    "class_weights_dict = dict(enumerate(class_weights))\n",
    "\n",
    "# Define early stopping and TensorBoard callbacks\n",
    "early_stopping = EarlyStopping(monitor='val_loss', patience=3, restore_best_weights=True)\n",
    "tensorboard = TensorBoard(log_dir='./logs', histogram_freq=1, write_graph=True, write_images=True)\n",
    "\n",
    "# Define a ModelCheckpoint callback\n",
    "checkpoint = ModelCheckpoint(\n",
    "    filepath='model/model_one_series_LSTM256_W_attention.h5',\n",
    "    monitor='val_loss',\n",
    "    verbose=1,\n",
    "    save_best_only=True,\n",
    "    save_weights_only=False,\n",
    "    mode='min',\n",
    "    save_freq='epoch',\n",
    "    options=None  # Set options explicitly to None\n",
    ")\n",
    "\n",
    "# Train the model with class weights, early stopping, and TensorBoard\n",
    "#model.fit(subset_X, subset_Y, epochs=10, batch_size=32, validation_data=(X_val, Y_val), class_weight=class_weights_dict, callbacks=[early_stopping, tensorboard])\n",
    "train_dataset = tf.data.Dataset.from_tensor_slices((dataset_for_training, labels_for_training)).batch(32)\n",
    "val_dataset = tf.data.Dataset.from_tensor_slices((X_val, Y_val)).batch(32)\n",
    "\n",
    "model.fit(train_dataset, epochs=30, validation_data=val_dataset, class_weight=class_weights_dict, callbacks=[early_stopping, tensorboard, checkpoint])\n",
    "\n",
    "\n",
    "# Evaluate the model\n",
    "loss, accuracy = model.evaluate(X_val, Y_val)\n",
    "print(f'Test Loss: {loss}, Test Accuracy: {accuracy}')\n"
   ]
  },
  {
   "cell_type": "code",
   "execution_count": 10,
   "id": "50b8f473-3bd2-4032-ac8b-dea515f1156f",
   "metadata": {},
   "outputs": [
    {
     "name": "stdout",
     "output_type": "stream",
     "text": [
      "[[1 0 0 0]\n",
      " [1 0 0 0]\n",
      " [0 0 0 1]\n",
      " [1 0 0 0]\n",
      " [1 0 0 0]\n",
      " [1 0 0 0]\n",
      " [0 0 0 1]\n",
      " [0 0 0 1]\n",
      " [0 0 0 1]\n",
      " [1 0 0 0]]\n",
      "82275/82275 [==============================] - 1026s 12ms/step\n",
      "[0 0 3 0 0 0 3 3 3 0]\n",
      "[0 3 0 0 0 3 0 0 0 0]\n"
     ]
    }
   ],
   "source": [
    "loaded_model = load_model('model/model_one_series_LSTM128_W_attention.h5')\n",
    "class_labels = [\"awake\",\"wakeup\",\"fallasleep\",\"asleep\"]\n",
    "\n",
    "# Assuming you have trained your model and obtained predictions on the validation set\n",
    "# Replace 'loaded_model' with the actual reference to your trained model\n",
    "\n",
    "# Assuming X_val and Y_val are your validation data\n",
    "print(Y_val[:10,:])\n",
    "\n",
    "y_true = np.argmax(Y_val, axis=1)\n",
    "y_pred = loaded_model.predict(X_val)\n",
    "y_pred_class = np.argmax(y_pred, axis=1)\n",
    "\n",
    "print(y_true[:10])\n",
    "print(y_pred_class[:10])"
   ]
  },
  {
   "cell_type": "code",
   "execution_count": 15,
   "id": "62478a2d-588c-453b-9200-873c048c5943",
   "metadata": {},
   "outputs": [
    {
     "name": "stdout",
     "output_type": "stream",
     "text": [
      "2527/2527 [==============================] - 17s 7ms/step\n",
      "Confusion Matrix:\n",
      "            awake  wakeup  fallasleep  asleep\n",
      "awake       47826    1189         623    3499\n",
      "wakeup          2     170           4      49\n",
      "fallasleep     11       5         195      14\n",
      "asleep       1514    4380         965   20401\n"
     ]
    },
    {
     "data": {
      "image/png": "[encoded data removed]",
      "text/plain": [
       "<Figure size 640x480 with 2 Axes>"
      ]
     },
     "metadata": {},
     "output_type": "display_data"
    }
   ],
   "source": [
    "import pandas as pd\n",
    "import seaborn as sns\n",
    "import matplotlib.pyplot as plt\n",
    "from sklearn.metrics import confusion_matrix\n",
    "import numpy as np\n",
    "\n",
    "loaded_model = load_model('model/model_one_series_LSTM128_W_attention.h5')\n",
    "class_labels = [\"awake\",\"wakeup\",\"fallasleep\",\"asleep\"]\n",
    "\n",
    "# Assuming you have trained your model and obtained predictions on the validation set\n",
    "# Replace 'loaded_model' with the actual reference to your trained model\n",
    "\n",
    "# Assuming X_val and Y_val are your validation data\n",
    "Y_val.head()\n",
    "\n",
    "y_true = np.argmax(Y_val, axis=1)\n",
    "y_pred = loaded_model.predict(X_val)\n",
    "y_pred_class = np.argmax(y_pred, axis=1)\n",
    "\n",
    "print(y_true[:10])\n",
    "print(y_pred_class[:10])\n",
    "\n",
    "# Generate the confusion matrix\n",
    "conf_matrix = confusion_matrix(y_true, y_pred_class)\n",
    "\n",
    "# Convert the confusion matrix to a DataFrame\n",
    "confusion_df = pd.DataFrame(conf_matrix, index=class_labels, columns=class_labels)\n",
    "\n",
    "# Display the confusion matrix as a table\n",
    "print(\"Confusion Matrix:\")\n",
    "print(confusion_df)\n",
    "\n",
    "# Plot the confusion matrix as a heatmap\n",
    "sns.heatmap(conf_matrix, annot=True, fmt='d', cmap='Blues', xticklabels=class_labels, yticklabels=class_labels)\n",
    "plt.xlabel('Predicted')\n",
    "plt.ylabel('True')\n",
    "plt.show()\n"
   ]
  },
  {
   "cell_type": "code",
   "execution_count": null,
   "id": "252d7d9a-8921-454f-8f3a-f6915d22043e",
   "metadata": {},
   "outputs": [],
   "source": []
  },
  {
   "cell_type": "code",
   "execution_count": 11,
   "id": "01083fff-46ce-4672-b912-b2176abe3610",
   "metadata": {},
   "outputs": [
    {
     "name": "stdout",
     "output_type": "stream",
     "text": [
      "411371/411371 [==============================] - 21767s 53ms/step\n"
     ]
    }
   ],
   "source": [
    "import numpy as np\n",
    "import pandas as pd\n",
    "import seaborn as sns\n",
    "import matplotlib.pyplot as plt\n",
    "from sklearn.metrics import confusion_matrix\n",
    "\n",
    "loaded_model = load_model('model/model_one_series_LSTM128_W_attention.h5')\n",
    "\n",
    "# Assuming you have a new dataset 'new_X' and predicted classes 'predicted_classes'\n",
    "# Replace 'loaded_model' with the actual reference to your trained model\n",
    "\n",
    "\n",
    "\n",
    "# Example data (replace with your actual data)\n",
    "X_train = three_d_array  # This is the windowed dataset the model was trained on.\n",
    "window_size = three_d_array.shape[1]\n",
    "prediction = loaded_model.predict(X_train)\n",
    "predicted_classes = np.argmax(prediction, axis=1)\n",
    "\n"
   ]
  },
  {
   "cell_type": "code",
   "execution_count": 32,
   "id": "9e3f7052-58de-4c9c-a9f4-ca2ab755871b",
   "metadata": {},
   "outputs": [
    {
     "data": {
      "text/plain": [
       "(13163845, 4)"
      ]
     },
     "execution_count": 32,
     "metadata": {},
     "output_type": "execute_result"
    }
   ],
   "source": [
    "prediction.shape"
   ]
  },
  {
   "cell_type": "code",
   "execution_count": 36,
   "id": "e680c974-25f7-4a0a-9018-2a2684b33a1e",
   "metadata": {},
   "outputs": [
    {
     "data": {
      "text/plain": [
       "(13163845, 4)"
      ]
     },
     "execution_count": 36,
     "metadata": {},
     "output_type": "execute_result"
    }
   ],
   "source": [
    "Y_all.shape"
   ]
  },
  {
   "cell_type": "code",
   "execution_count": 14,
   "id": "d776a26f-2de2-4fe3-8d2b-d4f1af21bd54",
   "metadata": {},
   "outputs": [],
   "source": [
    "# Example list of row indices (replace with your actual indices)\n",
    "row_indices = list(range(len(X_train)))\n",
    "\n",
    "# Assuming 'original_time_series_length' is the length of the original time series\n",
    "original_time_series_length = len(X_train)+50-1  # Replace with the actual length\n",
    "\n",
    "# Initialize a list of zeros with the length of the original time series\n",
    "result_list = [0] * original_time_series_length\n",
    "\n",
    "# Iterate through the dataset and modify the result_list based on predicted classes\n",
    "for idx, predicted_class in zip(row_indices, predicted_classes):\n",
    "    if predicted_class == 1:  # 1 represents the 'wakeup' class\n",
    "        #result_list[idx:idx + window_size] += 1\n",
    "        for i in range(window_size):\n",
    "            result_list[idx + i] += 1\n",
    "    elif predicted_class == 2:  # 2 represents the 'fallasleep' class\n",
    "        #result_list[idx:idx + window_size] += -1\n",
    "        for i in range(window_size):\n",
    "            result_list[idx + i] -= 1\n",
    "\n",
    "# Now, 'result_list' contains the increments and decrements based on the predicted classes\n"
   ]
  },
  {
   "cell_type": "code",
   "execution_count": 15,
   "id": "73600cb9-c442-4d0f-b8ea-b8a755fb41ce",
   "metadata": {},
   "outputs": [],
   "source": [
    "truth_list = [0] * original_time_series_length # a counterpart for result_list, considering the groundtruth labels\n",
    "\n",
    "truth_classes = np.argmax(Y_all, axis=1)\n",
    "\n",
    "# Iterate through the dataset and modify the truth_list based on predicted classes\n",
    "for idx, truth_class in zip(row_indices, truth_classes):\n",
    "    if truth_class == 1:  # 1 represents the 'wakeup' class\n",
    "        #truth_list[idx:idx + window_size] += 1\n",
    "        for i in range(window_size):\n",
    "            truth_list[idx + i] += 1\n",
    "    elif truth_class == 2:  # 2 represents the 'fallasleep' class\n",
    "        #truth_list[idx:idx + window_size] -= 1\n",
    "        for i in range(window_size):\n",
    "            truth_list[idx + i] -= 1"
   ]
  },
  {
   "cell_type": "code",
   "execution_count": 27,
   "id": "f743691c-b672-4644-95f6-69c1c6363cdd",
   "metadata": {},
   "outputs": [
    {
     "name": "stdout",
     "output_type": "stream",
     "text": [
      "[0 0 0 ... 3 3 3]\n",
      "[0, 0, 0, 0, 0, 0, 0, 0, 0, 0, 0, 0, 0, 0, 0, 0, 0, 0, 0, 0, 0, 0, 0, 0, 0, 0, 0, 0, 0, 0, 0, 0, 0, 0, 0, 0, 0, 0, 0, 0, 0, 0, 0, 0, 0, 0, 0, 0, 0, 0, 0, 0, 0, 0, 0, 0, 0, 0, 0, 0, 0, 0, 0, 0, 0, 0, 0, 0, 0, 0, 0, 0, 0, 0, 0, 0, 0, 0, 0, 0, 0, 0, 0, 0, 0, 0, 0, 0, 0, 0, 0, 0, 0, 0, 0, 0, 0, 0, 0, 0, 0, 0, 0, 0, 0, 0, 0, 0, 0, 0, 0, 0, 0, 0, 0, 0, 0, 0, 0, 0, 0, 0, 0, 0, 0, 0, 0, 0, 0, 0, 0, 0, 0, 0, 0, 0, 0, 0, 0, 0, 0, 0, 0, 0, 0, 0, 0, 0, 0, 0, 0, 0, 0, 0, 0, 0, 0, 0, 0, 0, 0, 0, 0, 0, 0, 0, 0, 0, 0, 0, 0, 0, 0, 0, 0, 0, 0, 0, 0, 0, 0, 0, 0, 0, 0, 0, 0, 0, 0, 0, 0, 0, 0, 0, 0, 0, 0, 0, 0, 0, 0, 0, 0, 0, 0, 0, 0, 0, 0, 0, 0, 0, 0, 0, 0, 0, 0, 0, 0, 0, 0, 0, 0, 0, 0, 0, 0, 0, 0, 0, 0, 0, 0, 0, 0, 0, 0, 0, 0, 0, 0, 0, 0, 0, 0, 0, 0, 0, 0, 0, 0, 0, 0, 0, 0, 0, 0, 0, 0, 0, 0, 0, 0, 0, 0, 0, 0, 0, 0, 0, 0, 0, 0, 0, 0, 0, 0, 0, 0, 0, 0, 0, 0, 0, 0, 0, 0, 0, 0, 0, 0, 0, 0, 0, 0, 0, 0, 0, 0, 0, 0, 0, 0, 0, 0, 0, 0, 0, 0, 0, 0, 0, 0, 0, 0, 0, 0, 0, 0, 0, 0, 0, 0, 0, 0, 0, 0, 0, 0, 0, 0, 0, 0, 0, 0, 0, 0, 0, 0, 0, 0, 0, 0, 0, 0, 0, 0, 0, 0, 0, 0, 0, 0, 0, 0, 0, 0, 0, 0, 0, 0, 0, 0, 0, 0, 0, 0, 0, 0, 0, 0, 0, 0, 0, 0, 0, 0, 0, 0, 0, 0, 0, 0, 0, 0, 0, 0, 0, 0, 0, 0, 0, 0, 0, 0, 0, 0, 0, 0, 0, 0, 0, 0, 0, 0, 0, 0, 0, 0, 0, 0, 0, 0, 0, 0, 0, 0, 0, 0, 0, 0, 0, 0, 0, 0, 0, 0, 0, 0, 0, 0, 0, 0, 0, 0, 0, 0, 0, 0, 0, 0, 0, 0, 0, 0, 0, 0, 0, 0, 0, 0, 0, 0, 0, 0, 0, 0, 0, 0, 0, 0, 0, 0, 0, 0, 0, 0, 0, 0, 0, 0, 0, 0, 0, 0, 0, 0, 0, 0, 0, 0, 0, 0, 0, 0, 0, 0, 0, 0, 0, 0, 0, 0, 0, 0, 0, 0, 0, 0, 0, 0, 0, 0, 0, 0, 0, 0, 0, 0, 0, 0, 0, 0, 0, 0, 0, 0, 0, 0, 0, 0, 0, 0, 0, 0, 0, 0, 0, 0, 0, 0, 0, 0, 0, 0, 0, 0, 0, 0, 0, 0, 0, 0, 0, 0, 0, 0, 0, 0, 0, 0, 0, 0, 0, 0, 0, 0, 0, 0, 0, 0, 0, 0, 0, 0, 0, 0, 0, 0, 0, 0, 0, 0, 0, 0, 0, 0, 0, 0, 0, 0, 0, 0, 0, 0, 0, 0, 0, 0, 0, 0, 0, 0, 0, 0, 0, 0, 0, 0, 0, 0, 0, 0, 0, 0, 0, 0, 0, 0, 0, 0, 0, 0, 0, 0, 0, 0, 0, 0, 0, 0, 0, 0, 0, 0, 0, 0, 0, 0, 0, 0, 0, 0, 0, 0, 0, 0, 0, 0, 0, 0, 0, 0, 0, 0, 0, 0, 0, 0, 0, 0, 0, 0, 0, 0, 0, 0, 0, 0, 0, 0, 0, 0, 0, 0, 0, 0, 0, 0, 0, 0, 0, 0, 0, 0, 0, 0, 0, 0, 0, 0, 0, 0, 0, 0, 0, 0, 0, 0, 0, 0, 0, 0, 0, 0, 0, 0, 0, 0, 0, 0, 0, 0, 0, 0, 0, 0, 0, 0, 0, 0, 0, 0, 0, 0, 0, 0, 0, 0, 0, 0, 0, 0, 0, 0, 0, 0, 0, 0, 0, 0, 0, 0, 0, 0, 0, 0, 0, 0, 0, 0, 0, 0, 0, 0, 0, 0, 0, 0, 0, 0, 0, 0, 0, 0, 0, 0, 0, 0, 0, 0, 0, 0, 0, 0, 0, 0, 0, 0, 0, 0, 0, 0, 0, 0, 0, 0, 0, 0, 0, 0, 0, 0, 0, 0, 0, 0, 0, 0, 0, 0, 0, 0, 0, 0, 0, 0, 0, 0, 0, 0, 0, 0, 0, 0, 0, 0, 0, 0, 0, 0, 0, 0, 0, 0, 0, 0, 0, 0, 0, 0, 0, 0, 0, 0, 0, 0, 0, 0, 0, 0, 0, 0, 0, 0, 0, 0, 0, 0, 0, 0, 0, 0, 0, 0, 0, 0, 0, 0, 0, 0, 0, 0, 0, 0, 0, 0, 0, 0, 0, 0, 0, 0, 0, 0, 0, 0, 0, 0, 0, 0, 0, 0, 0, 0, 0, 0, 0, 0, 0, 0, 0, 0, 0, 0, 0, 0, 0, 0, 0, 0, 0, 0, 0, 0, 0, 0, 0, 0, 0, 0, 0, 0, 0, 0, 0, 0, 0, 0, 0, 0, 0, 0, 0, 0, 0, 0, 0, 0, 0, 0, 0, 0, 0, 0, 0, 0, 0, 0, 0, 0, 0, 0, 0, 0, 0, 0, 0, 0, 0, 0, 0, 0, 0, 0, 0, 0, 0, 0, 0, 0, 0, 0, 0, 0, 0, 0, 0, 0, 0, 0, 0, 0, 0, 0, 0, 0, 0, 0, 0, 0, 0, 0, 0, 0, 0, 0, 0, 0, 0, 0, 0, 0, 0, 0, 0, 0, 0, 0, 0, 0, 0, 0, 0, 0, 0, 0, 0, 0, 0, 0, 0, 0, 0, 0, 0, 0, 0, 0, 0, 0, 0, 0, 0, 0, 0, 0, 0, 0, 0, 0, 0, 0, 0, 0, 0, 0, 0, 0, 0, 0, 0, 0, 0, 0, 0, 0, 0, 0, 0, 0, 0, 0, 0, 0, 0, 0, 0, 0, 0, 0, 0, 0, 0, 0, 0, 0, 0, 0, 0, 0, 0, 0, 0, 0, 0, 0, 0, 0, 0, 0, 0, 0, 0, 0, 0, 0, 0, 0, 0, 0, 0, 0, 0, 0, 0, 0, 0, 0, 0, 0, 0, 0, 0, 0, 0, 0, 0, 0, 0, 0, 0, 0, 0, 0, 0, 0, 0, 0, 0, 0, 0, 0, 0, 0, 0, 0, 0, 0, 0, 0, 0, 0, 0, 0, 0, 0, 0, 0, 0, 0, 0, 0, 0, 0, 0, 0, 0, 0, 0, 0, 0, 0, 0, 0, 0, 0, 0, 0, 0, 0, 0, 0, 0, 0, 0, 0, 0, 0, 0, 0, 0, 0, 0, 0, 0, 0, 0, 0, 0, 0, 0, 0, 0, 0, 0, 0, 0, 0, 0, 0, 0, 0, 0, 0, 0, 0, 0, 0, 0, 0, 0, 0, 0, 0, 0, 0, 0, 0, 0, 0, 0, 0, 0, 0, 0, 0, 0, 0, 0, 0, 0, 0, 0, 0, 0, 0, 0, 0, 0, 0, 0, 0, 0, 0, 0, 0, 0, 0, 0, 0, 0, 0, 0, 0, 0, 0, 0, 0, 0, 0, 0, 0, 0, 0, 0, 0, 0, 0, 0, 0, 0, 0, 0, 0, 0, 0, 0, 0, 0, 0, 0, 0, 0, 0, 0, 0, 0, 0, 0, 0, 0, 0, 0, 0, 0, 0, 0, 0, 0, 0, 0, 0, 0, 0, 0, 0, 0, 0, 0, 0, 0, 0, 0, 0, 0, 0, 0, 0, 0, 0, 0, 0, 0, 0, 0, 0, 0, 0, 0, 0, 0, 0, 0, 0, 0, 0, 0, 0, 0, 0, 0, 0, 0, 0, 0, 0, 0, 0, 0, 0, 0, 0, 0, 0, 0, 0, 0, 0, 0, 0, 0, 0, 0, 0, 0, 0, 0, 0, 0, 0, 0, 0, 0, 0, 0, 0, 0, 0, 0, 0, 0, 0, 0, 0, 0, 0, 0, 0, 0, 0, 0, 0, 0, 0, 0, 0, 0, 0, 0, 0, 0, 0, 0, 0, 0, 0, 0, 0, 0, 0, 0, 0, 0, 0, 0, 0, 0, 0, 0, 0, 0, 0, 0, 0, 0, 0, 0, 0, 0, 0, 0, 0, 0, 0, 0, 0, 0, 0, 0, 0, 0, 0, 0, 0, 0, 0, 0, 0, 0, 0, 0, 0, 0, 0, 0, 0, 0, 0, 0, 0, 0, 0, 0, 0, 0, 0, 0, 0, 0, 0, 0, 0, 0, 0, 0, 0, 0, 0, 0, 0, 0, 0, 0, 0, 0, 0, 0, 0, 0, 0, 0, 0, 0, 0, 0, 0, 0, 0, 0, 0, 0, 0, 0, 0, 0, 0, 0, 0, 0, 0, 0, 0, 0, 0, 0, 0, 0, 0, 0, 0, 0, 0, 0, 0, 0, 0, 0, 0, 0, 0, 0, 0, 0, 0, 0, 0, 0, 0, 0, 0, 0, 0, 0, 0, 0, 0, 0, 0, 0, 0, 0, 0, 0, 0, 0, 0, 0, 0, 0, 0, 0, 0, 0, 0, 0, 0, 0, 0, 0, 0, 0, 0, 0, 0, 0, 0, 0, 0, 0, 0, 0, 0, 0, 0, 0, 0, 0, 0, 0, 0, 0, 0, 0, 0, 0, 0, 0, 0, 0, 0, 0, 0, 0, 0, 0, 0, 0, 0, 0, 0, 0, 0, 0, 0, 0, 0, 0, 0, 0, 0, 0, 0, 0, 0, 0, 0, 0, 0, 0, 0, 0, 0, 0, 0, 0, 0, 0, 0, 0, 0, 0, 0, 0, 0, 0, 0, 0, 0, 0, 0, 0, 0, 0, 0, 0, 0, 0, 0, 0, 0, 0, 0, 0, 0, 0, 0, 0, 0, 0, 0, 0, 0, 0, 0, 0, 0, 0, 0, 0, 0, 0, 0, 0, 0, 0, 0, 0, 0, 0, 0, 0, 0, 0, 0, 0, 0, 0, 0, 0, 0, 0, 0, 0, 0, 0, 0, 0, 0, 0, 0, 0, 0, 0, 0, 0, 0, 0, 0, 0, 0, 0, 0, 0, 0, 0, 0, 0, 0, 0, 0, 0, 0, 0, 0, 0, 0, 0, 0, 0, 0, 0, 0, 0, 0, 0, 0, 0, 0, 0, 0, 0, 0, 0, 0, 0, 0, 0, 0, 0, 0, 0, 0, 0, 0, 0, 0, 0, 0, 0, 0, 0, 0, 0, 0, 0, 0, 0, 0, 0, 0, 0, 0, 0, 0, 0, 0, 0, 0, 0, 0, 0, 0, 0, 0, 0, 0, 0, 0, 0, 0, 0, 0, 0, 0, 0, 0, 0, 0, 0, 0, 0, 0, 0, 0, 0, 0, 0, 0, 0, 0, 0, 0, 0, 0, 0, 0, 0, 0, 0, 0, 0, 0, 0, 0, 0, 0, 0, 0, 0, 0, 0, 0, 0, 0, 0, 0, 0, 0, 0, 0, 0, 0, 0, 0, 0, 0, 0, 0, 0, 0, 0, 0, 0, 0, 0, 0, 0, 0, 0, 0, 0, 0, 0, 0, 0, 0, 0, 0, 0, 0, 0, 0, 0, 0, 0, 0, 0, 0, 0, 0, 0, 0, 0, 0, 0, 0, 0, 0, 0, 0, 0, 0, 0, 0, 0, 0, 0, 0, 0, 0, 0, 0, 0, 0, 0, 0, 0, 0, 0, 0, 0, 0, 0, 0, 0, 0, 0, 0, 0, 0, 0, 0, 0, 0, 0, 0, 0, 0, 0, 0, 0, 0, 0, 0, 0, 0, 0, 0, 0, 0, 0, 0, 0, 0, 0, 0, 0, 0, 0, 0, 0, 0, 0, 0, 0, 0, 0, 0, 0, 0, 0, 0, 0, 0, 0, 0, 0, 0, 0, 0, 0, 0, 0, 0, 0, 0, 0, 0, 0, 0, 0, 0, 0, 0, 0, 0, 0, 0, 0, 0, 0, 0, 0, 0, 0, 0, 0, 0, 0, 0, 0, 0, 0, 0, 0, 0, 0, 0, 0, 0, 0, 0, 0, 0, 0, 0, 0, 0, 0, 0, 0, 0, 0, 0, 0, 0, 0, 0, 0, 0, 0, 0, 0, 0, 0, 0, 0, 0, 0, 0, 0, 0, 0, 0, 0, 0, 0, 0, 0, 0, 0, 0, 0, 0, 0, 0, 0, 0, 0, 0, 0, 0, 0, 0, 0, 0, 0, 0, 0, 0, 0, 0, 0, 0, 0, 0, 0, 0, 0, 0, 0, 0, 0, 0, 0, 0, 0, 0, 0, 0, 0, 0, 0, 0, 0, 0, 0, 0, 0, 0, 0, 0, 0, 0, 0, 0, 0, 0, 0, 0, 0, 0, 0, 0, 0, 0, 0, 0, 0, 0, 0, 0, 0, 0, 0, 0, 0, 0, 0, 0, 0, 0, 0, 0, 0, 0, 0, 0, 0, 0, 0, 0, 0, 0, 0, 0, 0, 0, 0, 0, 0, 0, 0, 0, 0, 0, 0, 0, 0, 0, 0, 0, 0, 0, 0, 0, 0, 0, 0, 0, 0, 0, 0, 0, 0, 0, 0, 0, 0, 0, 0, 0, 0, 0, 0, 0, 0, 0, 0, 0, 0, 0, 0, 0, 0, 0, 0, 0, 0, 0, 0, 0, 0, 0, 0, 0, 0, 0, 0, 0, 0, 0, 0, 0, 0, 0, 0, 0, 0, 0, 0, 0, 0, 0, 0, 0, 0, 0, 0, 0, 0, 0, 0, 0, 0, 0, 0, 0, 0, 0, 0, 0, 0, 0, 0, 0, 0, 0, 0, 0, 0, 0, 0, 0, 0, 0, 0, 0, 0, 0, 0, 0, 0, 0, 0, 0, 0, 0, 0, 0, 0, 0, 0, 0, 0, 0, 0, 0, 0, 0, 0, 0, 0, 0, 0, 0, 0, 0, 0, 0, 0, 0, 0, 0, 0, 0, 0, 0, 0, 0, 0, 0, 0, 0, 0, 0, 0, 0, 0, 0, 0, 0, 0, 0, 0, 0, 0, 0, 0, 0, 0, 0, 0, 0, 0, 0, 0, 0, 0, 0, 0, 0, 0, 0, 0, 0, 0, 0, 0, 0, 0, 0, 0, 0, 0, 0, 0, 0, 0, 0, 0, 0, 0, 0, 0, 0, 0, 0, 0, 0, 0, 0, 0, 0, 0, 0, 0, 0, 0, 0, 0, 0, 0, 0, 0, 0, 0, 0, 0, 0, 0, 0, 0, 0, 0, 0, 0, 0, 0, 0, 0, 0, 0, 0, 0, 0, 0, 0, 0, 0, 0, 0, 0, 0, 0, 0, 0, 0, 0, 0, 0, 0, 0, 0, 0, 0, 0, 0, 0, 0, 0, 0, 0, 0, 0, 0, 0, 0, 0, 0, 0, 0, 0, 0, 0, 0, 0, 0, 0, 0, 0, 0, 0, 0, 0, 0, 0, 0, 0, 0, 0, 0, 0, 0, 0, 0, 0, 0, 0, 0, 0, 0, 0, 0, 0, 0, 0, 0, 0, 0, 0, 0, 0, 0, 0, 0, 0, 0, 0, 0, 0, 0, 0, 0, 0, 0, 0, 0, 0, 0, 0, 0, 0, 0, 0, 0, 0, 0, 0, 0, 0, 0, 0, 0, 0, 0, 0, 0, 0, 0, 0, 0, 0, 0, 0, 0, 0, 0, 0, 0, 0, 0, 0, 0, 0, 0, 0, 0, 0, 0, 0, 0, 0, 0, 0, 0, 0, 0, 0, 0, 0, 0, 0, 0, 0, 0, 0, 0, 0, 0, 0, 0, 0, 0, 0, 0, 0, 0, 0, 0, 0, 0, 0, 0, 0, 0, 0, 0, 0, 0, 0, 0, 0, 0, 0, 0, 0, 0, 0, 0, 0, 0, 0, 0, 0, 0, 0, 0, 0, 0, 0, 0, 0, 0, 0, 0, 0, 0, 0, 0, 0, 0, 0, 0, 0, 0, 0, 0, 0, 0, 0, 0, 0, 0, 0, 0, 0, 0, 0, 0, 0, 0, 0, 0, 0, 0, 0, 0, 0, 0, 0, 0, 0, 0, 0, 0, 0, 0, 0, 0, 0, 0, 0, 0, 0, 0, 0, 0, 0, 0, 0, 0, 0, 0, 0, 0, 0, 0, 0, 0, 0, 0, 0, 0, 0, 0, 0, 0, 0, 0, 0, 0, 0, 0, 0, 0, 0, 0, 0, 0, 0, 0, 0, 0, 0, 0, 0, 0, 0, 0, 0, 0, 0, 0, 0, 0, 0, 0, 0, 0, 0, 0, 0, 0, 0, 0, 0, 0, 0, 0, 0, 0, 0, 0, 0, 0, 0, 0, 0, 0, 0, 0, 0, 0, 0, 0, 0, 0, 0, 0, 0, 0, 0, 0, 0, 0, 0, 0, 0, 0, 0, 0, 0, 0, 0, 0, 0, 0, 0, 0, 0, 0, 0, 0, 0, 0, 0, 0, 0, 0, 0, 0, 0, 0, 0, 0, 0, 0, 0, 0, 0, 0, 0, 0, 0, 0, 0, 0, 0, 0, 0, 0, 0, 0, 0, 0, 0, 0, 0, 0, 0, 0, 0, 0, 0, 0, 0, 0, 0, 0, 0, 0, 0, 0, 0, 0, 0, 0, 0, 0, 0, 0, 0, 0, 0, 0, 0, 0, 0, 0, 0, 0, 0, 0, 0, 0, 0, 0, 0, 0, 0, 0, 0, 0, 0, 0, 0, 0, 0, 0, 0, 0, 0, 0, 0, 0, 0, 0, 0, 0, 0, 0, 0, 0, 0, 0, 0, 0, 0, 0, 0, 0, 0, 0, 0, 0, 0, 0, 0, 0, 0, 0, 0, 0, 0, 0, 0, 0, 0, 0, 0, 0, 0, 0, 0, 0, 0, 0, 0, 0, 0, 0, 0, 0, 0, 0, 0, 0, 0, 0, 0, 0, 0, 0, 0, 0, 0, 0, 0, 0, 0, 0, 0, 0, 0, 0, 0, 0, 0, 0, 0, 0, 0, 0, 0, 0, 0, 0, 0, 0, 0, 0, 0, 0, 0, 0, 0, 0, 0, 0, 0, 0, 0, 0, 0, 0, 0, 0, 0, 0, 0, 0, 0, 0, 0, 0, 0, 0, 0, 0, 0, 0, 0, 0, 0, 0, 0, 0, 0, 0, 0, 0, 0, 0, 0, 0, 0, 0, 0, 0, 0, 0, 0, 0, 0, 0, 0, 0, 0, 0, 0, 0, 0, 0, 0, 0, 0, 0, 0, 0, 0, 0, 0, 0, 0, 0, 0, 0, 0, 0, 0, 0, 0, 0, 0, 0, 0, 0, 0, 0, 0, 0, 0, 0, 0, 0, 0, 0, 0, 0, 0, 0, 0, 0, 0, 0, 0, 0, 0, 0, 0, 0, 0, 0, 0, 0, 0, 0, 0, 0, 0, 0, 0, 0, 0, 0, 0, 0, 0, 0, 0, 0, 0, 0, 0, 0, 0, 0, 0, 0, 0, 0, 0, 0, 0, 0, 0, 0, 0, 0, 0, 0, 0, 0, 0, 0, 0, 0, 0, 0, 0, 0, 0, 0, 0, 0, 0, 0, 0, 0, 0, 0, 0, 0, 0, 0, 0, 0, 0, 0, 0, 0, 0, 0, 0, 0, 0, 0, 0, 0, 0, 0, 0, 0, 0, 0, 0, 0, 0, 0, 0, 0, 0, 0, 0, 0, 0, 0, 0, 0, 0, 0, 0, 0, 0, 0, 0, 0, 0, 0, 0, 0, 0, 0, 0, 0, 0, 0, 0, 0, 0, 0, 0, 0, 0, 0, 0, 0, 0, 0, 0, 0, 0, 0, 0, 0, 0, 0, 0, 0, 0, 0, 0, 0, 0, 0, 0, 0, 0, 0, 0, 0, 0, 0, 0, 0, 0, 0, 0, 0, 0, 0, 0, 0, 0, 0, 0, 0, 0, 0, 0, 0, 0, 0, 0, 0, 0, 0, 0, 0, 0, 0, 0, 0, 0, 0, 0, 0, 0, 0, 0, 0, 0, 0, 0, 0, 0, 0, 0, 0, 0, 0, 0, 0, 0, 0, 0, 0, 0, 0, 0, 0, 0, 0, 0, 0, 0, 0, 0, 0, 0, 0, 0, 0, 0, 0, 0, 0, 0, 0, 0, 0, 0, 0, 0, 0, 0, 0, 0, 0, 0, 0, 0, 0, 0, 0, 0, 0, 0, 0, 0, 0, 0, 0, 0, 0, 0, 0, 0, 0, 0, 0, 0, 0, 0, 0, 0, 0, 0, 0, 0, 0, 0, 0, 0, 0, 0, 0, 0, 0, 0, 0, 0, 0, 0, 0, 0, 0, 0, 0, 0, 0, 0, 0, 0, 0, 0, 0, 0, 0, 0, 0, 0, 0, 0, 0, 0, 0, 0, 0, 0, 0, 0, 0, 0, 0, 0, 0, 0, 0, 0, 0, 0, 0, 0, 0, 0, 0, 0, 0, 0, 0, 0, 0, 0, 0, 0, 0, 0, 0, 0, 0, 0, 0, 0, 0, 0, 0, 0, 0, 0, 0, 0, 0, 0, 0, 0, 0, 0, 0, 0, 0, 0, 0, 0, 0, 0, 0, 0, 0, 0, 0, 0, 0, 0, 0, 0, 0, 0, 0, 0, 0, 0, 0, 0, 0, 0, 0, 0, 0, 0, 0, 0, 0, 0, 0, 0, 0, 0, 0, 0, 0, 0, 0, 0, 0, 0, 0, 0, 0, 0, 0, 0, 0, 0, 0, 0, 0, 0, 0, 0, 0, 0, 0, 0, 0, 0, 0, 0, 0, 0, 0, 0, 0, 0, 0, 0, 0, 0, 0, 0, 0, 0, 0, 0, 0, 0, 0, 0, 0, 0, 0, 0, 0, 0, 0, 0, 0, 0, 0, 0, 0, 0, 0, 0, 0, 0, 0, 0, 0, 0, 0, 0, 0, 0, 0, 0, 0, 0, 0, 0, 0, 0, 0, 0, 0, 0, 0, 0, 0, 0, 0, 0, 0, 0, 0, 0, 0, 0, 0, 0, 0, 0, 0, 0, 0, 0, 0, 0, 0, 0, 0, 0, 0, 0, 0, 0, 0, 0, 0, 0, 0, 0, 0, 0, 0, 0, 0, 0, 0, 0, 0, 0, 0, 0, 0, 0, 0, 0, 0, 0, 0, 0, 0, 0, 0, 0, 0, 0, 0, 0, 0, 0, 0, 0, 0, 0, 0, 0, 0, 0, 0, 0, 0, 0, 0, 0, 0, 0, 0, 0, 0, 0, 0, 0, 0, 0, 0, 0, 0, 0, 0, 0, 0, 0, 0, 0, 0, 0, 0, 0, 0, 0, 0, 0, 0, 0, 0, 0, 0, 0, 0, 0, 0, 0, 0, 0, 0, 0, 0, 0, 0, 0, 0, 0, 0, 0, 0, 0, 0, 0, 0, 0, 0, 0, 0, 0, 0, 0, 0, 0, 0, 0, 0, 0, 0, 0, 0, 0, 0, 0, 0, 0, 0, 0, 0, 0, 0, 0, 0, 0, 0, 0, 0, 0, 0, 0, 0, 0, 0, 0, 0, 0, 0, 0, 0, 0, 0, 0, 0, 0, 0, 0, 0, 0, 0, 0, 0, 0, 0, 0, 0, 0, 0, 0, 0, 0, 0, 0, 0, 0, 0, 0, 0, 0, 0, 0, 0, 0, 0, 0, 0, 0, 0, 0, 0, 0, 0, 0, 0, 0, 0, 0, 0, 0, 0, 0, 0, 0, 0, 0, 0, 0, 0, 0, 0, 0, 0, 0, 0, 0, 0, 0, 0, 0, 0, 0, 0, 0, 0, 0, 0, 0, 0, 0, 0, 0, 0, 0, 0, 0, 0, 0, 0, 0, 0, 0, 0, 0, 0, 0, 0, 0, 0, 0, 0, 0, 0, 0, 0, 0, 0, 0, 0, 0, 0, 0, 0, 0, 0, 0, 0, 0, 0, 0, 0, 0, 0, 0, 0, 0, 0, 0, 0, 0, 0, 0, 0, 0, 0, 0, 0, 0, 0, 0, 0, 0, 0, 0, 0, 0, 0, 0, 0, 0, 0, 0, 0, 0, 0, 0, 0, 0, 0, 0, 0, 0, 0, 0, 0, 0, 0, 0, 0, 0, 0, 0, 0, 0, 0, 0, 0, 0, 0, 0, 0, 0, 0, 0, 0, 0, 0, 0, 0, 0, 0, 0, 0, 0, 0, 0, 0, 0, 0, 0, 0, 0, 0, 0, 0, 0, 0, 0, 0, 0, 0, 0, 0, 0, 0, 0, 0, 0, 0, 0, 0, 0, 0, 0, 0, 0, 0, 0, 0, 0, 0, 0, 0, 0, 0, 0, 0, 0, 0, 0, 0, 0, 0, 0, 0, 0, 0, 0, 0, 0, 0, 0, 0, 0, 0, 0, 0, 0, 0, 0, 0, 0, 0, 0, 0, 0, 0, 0, 0, 0, 0, 0, 0, 0, 0, 0, 0, 0, 0, 0, 0, 0, 0, 0, 0, 0, 0, 0, 0, 0, 0, 0, 0, 0, 0, 0, 0, 0, 0, 0, 0, 0, 0, 0, 0, 0, 0, 0, 0, 0, 0, 0, 0, 0, 0, 0, 0, 0, 0, 0, 0, 0, 0, 0, 0, 0, 0, 0, 0, 0, 0, 0, 0, 0, 0, 0, 0, 0, 0, 0, 0, 0, 0, 0, 0, 0, 0, 0, 0, 0, 0, 0, 0, 0, 0, 0, 0, 0, 0, 0, 0, 0, 0, 0, 0, 0, 0, 0, 0, 0, 0, 0, 0, 0, 0, 0, 0, 0, 0, 0, 0, 0, 0, 0, 0, 0, 0, 0, 0, 0, 0, 0, 0, 0, 0, 0, 0, 0, 0, 0, 0, 0, 0, 0, 0, 0, 0, 0, 0, 0, 0, 0, 0, 0, 0, 0, 0, 0, 0, 0, 0, 0, 0, 0, 0, 0, 0, 0, 0, 0, 0, 0, 0, 0, 0, 0, 0, 0, 0, 0, 0, 0, 0, 0, 0, 0, 0, 0, 0, 0, 0, 0, 0, 0, 0, 0, 0, 0, 0, 0, 0, 0, 0, 0, 0, 0, 0, 0, 0, 0, 0, 0, 0, 0, 0, 0, 0, 0, 0, 0, 0, 0, 0, 0, 0, 0, 0, 0, 0, 0, 0, 0, 0, 0, 0, 0, 0, 0, 0, 0, 0, 0, 0, 0, 0, 0, 0, 0, 0, 0, 0, 0, 0, 0, 0, 0, 0, 0, 0, 0, 0, 0, 0, 0, 0, 0, 0, 0, 0, 0, 0, 0, 0, 0, 0, 0, 0, 0, 0, 0, 0, 0, 0, 0, 0, 0, 0, 0, 0, 0, 0, 0, 0, 0, 0, 0, 0, 0, 0, 0, 0, 0, 0, 0, 0, 0, 0, 0, 0, 0, 0, 0, 0, 0, 0, 0, 0, 0, 0, 0, 0, 0, 0, 0, 0, 0, 0, 0, 0, 0, 0, 0, 0, 0, 0, 0, 0, 0, 0, 0, 0, 0, 0, 0, 0, 0, 0, 0, 0, 0, 0, 0, 0, 0, 0, 0, 0, 0, 0, 0, 0, 0, 0, 0, 0, 0, 0, 0, 0, 0, 0, 0, 0, 0, 0, 0, 0, 0, 0, 0, 0, 0, 0, 0, 0, 0, 0, 0, 0, 0, 0, 0, 0, 0, 0, 0, 0, 0, 0, 0, 0, 0, 0, 0, 0, 0, 0, 0, 0, 0, 0, 0, 0, 0, 0, 0, 0, 0, 0, 0, 0, 0, 0, 0, 0, 0, 0, 0, 0, 0, 0, 0, 0, 0, 0, 0, 0, 0, 0, 0, 0, 0, 0, 0, 0, 0, 0, 0, 0, 0, 0, 0, 0, 0, 0, 0, 0, 0, 0, 0, 0, 0, 0, 0, 0, 0, 0, 0, 0, 0, 0, 0, 0, 0, 0, 0, 0, 0, 0, 0, 0, 0, 0, 0, 0, 0, 0, 0, 0, 0, 0, 0, 0, 0, 0, 0, 0, 0, 0, 0, 0, 0, 0, 0, 0, 0, 0, 0, 0, 0, 0, 0, 0, 0, 0, 0, 0, 0, 0, 0, 0, 0, 0, 0, 0, 0, 0, 0, 0, 0, 0, 0, 0, 0, 0, 0, 0, 0, 0, 0, 0, 0, 0, 0, 0, 0, 0, 0, 0, 0, 0, 0, 0, 0, 0, 0, 0, 0, 0, 0, 0, 0, 0, 0, 0, 0, 0, 0, 0, 0, 0, 0, 0, 0, 0, 0, 0, 0, 0, 0, 0, 0, 0, 0, 0, 0, 0, 0, 0, 0, 0, 0, 0, 0, 0, 0, 0, 0, 0, 0, 0, 0, 0, 0, 0, 0, 0, 0, 0, 0, 0, 0, 0, 0, 0, 0, 0, 0, 0, 0, 0, 0, 0, 0, 0, 0, 0, 0, 0, 0, 0, 0, 0, 0, 0, 0, 0, 0, 0, 0, 0, 0, 0, 0, 0, 0, 0, 0, 0, 0, 0, 0, 0, 0, 0, 0, 0, 0, 0, 0, 0, 0, 0, 0, 0, 0, 0, 0, 0, 0, 0, 0, 0, 0, 0, 0, 0, 0, 0, 0, 0, 0, 0, 0, 0, 0, 0, 0, 0, 0, 0, 0, 0, 0, 0, 0, 0, 0, 0, 0, 0, 0, 0, 0, 0, 0, 0, 0, 0, 0, 0, 0, 0, 0, 0, 0, 0, 0, 0, 0, 0, 0, 0, 0, 0, 0, 0, 0, 0, 0, 0, 0, 0, 0, 0, 0, 0, 0, 0, 0, 0, 0, 0, 0, 0, 0, 0, 0, 0, 0, 0, 0, 0, 0, 0, 0, 0, 0, 0, 0, 0, 0, 0, 0, 0, 0, 0, 0, 0, 0, 0, 0, 0, 0, 0, 0, 0, 0, 0, 0, 0, 0, 0, 0, 0, 0, 0, 0, 0, 0, 0, 0, 0, 0, 0, 0, 0, 0, 0, 0, 0, 0, 0, 0, 0, 0, 0, 0, 0, 0, 0, 0, 0, 0, 0, 0, 0, 0, 0, 0, 0, 0, 0, 0, 0, 0, 0, 0, 0, 0, 0, 0, 0, 0, 0, 0, 0, 0, 0, 0, 0, 0, 0, 0, 0, 0, 0, 0, 0, 0, 0, 0, 0, 0, 0, 0, 0, 0, 0, 0, 0, 0, 0, 0, 0, 0, 0, 0, 0, 0, 0, 0, 0, 0, 0, 0, 0, 0, 0, 0, 0, 0, 0, 0, 0, 0, 0, 0, 0, 0, 0, 0, 0, 0, 0, 0, 0, 0, 0, 0, 0, 0, 0, 0, 0, 0, 0, 0, 0, 0, 0, 0, 0, 0, 0, 0, 0, 0, 0, 0, 0, 0, 0, 0, 0, 0, 0, 0, 0, 0, 0, 0, 0, 0, 0, 0, 0, 0, 0, 0, 0, 0, 0, 0, 0, 0, 0, 0, 0, 0, 0, 0, 0, 0, 0, 0, 0, 0, 0, 0, 0, 0, 0, 0, 0, 0, 0, 0, 0, 0, 0, 0, 0, 0, 0, 0, 0, 0, 0, 0, 0, 0, 0, 0, 0, 0, 0, 0, 0, 0, 0, 0, 0, 0, 0, 0, 0, 0, 0, 0, 0, 0, 0, 0, 0, 0, 0, 0, 0, 0, 0, 0, 0, 0, 0, 0, 0, 0, 0, 0, 0, 0, 0, 0, 0, 0, 0, 0, 0, 0, 0, 0, 0, 0, 0, 0, 0, 0, 0, 0, 0, 0, 0, 0, 0, 0, 0, 0, 0, 0, 0, 0, 0, 0, 0, 0, 0, 0, 0, 0, 0, 0, 0, 0, 0, 0, 0, 0, 0, 0, 0, 0, 0, 0, 0, 0, 0, 0, 0, 0, 0, 0, 0, 0, 0, 0, 0, 0, 0, 0, 0, 0, 0, 0, 0, 0, 0, 0, 0, 0, 0, 0, 0, 0, 0, 0, 0, 0, 0, 0, 0, 0, 0, 0, 0, 0, 0, 0, 0, 0, 0, 0, 0, 0, 0, 0, 0, 0, 0, 0, 0, 0, 0, 0, 0, 0, 0, 0, 0, 0, 0, 0, 0, 0, 0, 0, 0, 0, 0, 0, 0, 0, 0, 0, 0, 0, 0, 0, 0, 0, 0, 0, 0, 0, 0, 0, 0, 0, 0, 0, 0, 0, 0, 0, 0, 0, 0, 0, 0, 0, 0, 0, 0, 0, 0, 0, 0, 0, 0, 0, 0, 0, 0, 0, 0, 0, 0, 0, 0, 0, 0, 0, 0, 0, 0, 0, 0, 0, 0, 0, 0, 0, 0, 0, 0, 0, 0, 0, 0, 0, 0, 0, 0, 0, 0, 0, 0, 0, 0, 0, 0, 0, 0, 0, 0, 0, 0, 0, 0, 0, 0, 0, 0, 0, 0, 0, 0, 0, 0, 0, 0, 0, 0, 0, 0, 0, 0, 0, 0, 0, 0, 0, 0, 0, 0, 0, 0, 0, 0, 0, 0, 0, 0, 0, 0, 0, 0, 0, 0, 0, 0, 0, 0, 0, 0, 0, 0, 0, 0, 0, 0, 0, 0, 0, 0, 0, 0, 0, 0, 0, 0, 0, 0, 0, 0, 0, 0, 0, 0, 0, 0, 0, 0, 0, 0, 0, 0, 0, 0, 0, 0, 0, 0, 0, 0, 0, 0, 0, 0, 0, 0, 0, 0, 0, 0, 0, 0, 0, 0, 0, 0, 0, 0, 0, 0, 0, 0, 0, 0, 0, 0, 0, 0, 0, 0, 0, 0, 0, 0, 0, 0, 0, 0, 0, 0, 0, 0, 0, 0, 0, 0, 0, 0, 0, 0, 0, 0, 0, 0, 0, 0, 0, 0, 0, 0, 0, 0, 0, 0, 0, 0, 0, 0, 0, 0, 0, 0, 0, 0, 0, 0, 0, 0, 0, 0, 0, 0, 0, 0, 0, 0, 0, 0, 0, 0, 0, 0, 0, 0, 0, 0, 0, 0, 0, 0, 0, 0, 0, 0, 0, 0, 0, 0, 0, 0, 0, 0, 0, 0, 0, 0, 0, 0, 0, 0, 0, 0, 0, 0, 0, 0, 0, 0, 0, 0, 0, 0, 0, 0, 0, 0, 0, 0, 0, 0, 0, 0, 0, 0, 0, 0, 0, 0, 0, 0, 0, 0, 0, 0, 0, 0, 0, 0, 0, 0, 0, 0, 0, 0, 0, 0, 0, 0, 0, 0, 0, 0, 0, 0, 0, 0, 0, 0, 0, 0, 0, 0, 0, 0, 0, 0, 0, 0, 0, 0, 0, 0, 0, 0, 0, 0, 0, 0, 0, 0, 0, 0, 0, 0, 0, 0, 0, 0, 0, 0, 0, 0, 0, 0, 0, 0, 0, 0, 0, 0, 0, 0, 0, 0, 0, 0, 0, 0, 0, 0, 0, 0, 0, 0, 0, 0, 0, 0, 0, 0, 0, 0, 0, 0, 0, 0, 0, 0, 0, 0, 0, 0, 0, 0, 0, 0, 0, 0, 0, 0, 0, 0, 0, 0, 0, 0, 0, 0, 0, 0, 0, 0, 0, 0, 0, 0, 0, 0, 0, 0, 0, 0, 0, 0, 0, 0, 0, 0, 0, 0, 0, 0, 0, 0, 0, 0, 0, 0, 0, 0, 0, 0, 0, 0, 0, 0, 0, 0, 0, 0, 0, 0, 0, 0, 0, 0, 0, 0, 0, 0, 0, 0, 0, 0, 0, 0, 0, 0, 0, 0, 0, 0, 0, 0, 0, 0, 0, 0, 0, 0, 0, 0, 0, 0, 0, 0, 0, 0, 0, 0, 0, 0, 0, 0, 0, 0, 0, 0, 0, 0, 0, 0, 0, 0, 0, 0, 0, 0, 0, 0, 0, 0, 0, 0, 0, 0, 0, 0, 0, 0, 0, 0, 0, 0, 0, 0, 0, 0, 0, 0, 0, 0, 0, 0, 0, 0, 0, 0, 0, 0, 0, 0, 0, 0, 0, 0, 0, 0, 0, 0, 0, 0, 0, 0, 0, 0, 0, 0, 0, 0, 0, 0, 0, 0, 0, 0, 0, 0, 0, 0, 0, 0, 0, 0, 0, 0, 0, 0, 0, 0, 0, 0, 0, 0, 0, 0, 0, 0, 0, 0, 0, 0, 0, 0, 0, 0, 0, 0, 0, 0, 0, 0, 0, 0, 0, 0, 0, 0, 0, 0, 0, 0, 0, 0, 0, 0, 0, 0, 0, 0, 0, 0, 0, 0, 0, 0, 0, 0, 0, 0, 0, 0, 0, 0, 0, 0, 0, 0, 0, 0, 0, 0, 0, 0, 0, 0, 0, 0, 0, 0, 0, 0, 0, 0, 0, 0, 0, 0, 0, 0, 0, 0, 0, 0, 0, 0, 0, 0, 0, 0, 0, 0, 0, 0, 0, 0, 0, 0, 0, 0, 0, 0, 0, 0, 0, 0, 0, 0, 0, 0, 0, 0, 0, 0, 0, 0, 0, 0, 0, 0, 0, 0, 0, 0, 0, 0, 0, 0, 0, 0, 0, 0, 0, 0, 0, 0, 0, 0, 0, 0, 0, 0, 0, 0, 0, 0, 0, 0, 0, 0, 0, 0, 0, 0, 0, 0, 0, 0, 0, 0, 0, 0, 0, 0, 0, 0, 0, 0, 0, 0, 0, 0, 0, 0, 0, 0, 0, 0, 0, 0, 0, 0, 0, 0, 0, 0, 0, 0, 0, 0, 0, 0, 0, 0, 0, 0, 0, 0, 0, 0, 0, 0, 0, 0, 0, 0, 0, 0, 0, 0, 0, 0, 0, 0, 0, 0, 0, 0, 0, 0, 0, 0, 0, 0, 0, 0, 0, 0, 0, 0, 0, 0, 0, 0, 0, 0, 0, 0, 0, 0, 0, 0, 0, 0, 0, 0, 0, 0, 0, 0, 0, 0, 0, 0, 0, 0, 0, 0, 0, 0, 0, 0, 0, 0, 0, 0, 0, 0, 0, 0, 0, 0, 0, 0, 0, 0, 0, 0, 0, 0, 0, 0, 0, 0, 0, 0, 0, 0, 0, 0, 0, 0, 0, 0, 0, 0, 0, 0, 0, 0, 0, 0, 0, 0, 0, 0, 0, 0, 0, 0, 0, 0, 0, 0, 0, 0, 0, 0, 0, 0, 0, 0, 0, 0, 0, 0, 0, -1, -2, -3, -4, -5, -6, -7, -8, -9, -10, -11, -12, -13, -14, -15, -16, -17, -18, -19, -20, -21, -22, -23, -24, -25, -26, -27, -28, -29, -30, -31, -32, -33, -34, -35, -36, -37, -38, -39, -40, -41, -42, -43, -44, -45, -46, -47, -48, -49, -49, -48, -47, -46, -45, -44, -43, -42, -41, -40, -39, -38, -37, -36, -35, -34, -33, -32, -31, -30, -29, -28, -27, -26, -25, -24, -23, -22, -21, -20, -19, -18, -17, -16, -15, -14, -13, -12, -11, -10, -9, -8, -7, -6, -5, -4, -3, -2, -1, 0, 0, 0, 0, 0, 0, 0, 0, 0, 0, 0, 0, 0, 0, 0, 0, 0, 0, 0, 0, 0, 0, 0, 0, 0, 0, 0, 0, 0, 0, 0, 0, 0, 0, 0, 0, 0, 0, 0, 0, 0, 0, 0, 0, 0, 0, 0, 0, 0, 0, 0, 0, 0, 0, 0, 0, 0, 0, 0, 0, 0, 0, 0, 0, 0, 0, 0, 0, 0, 0, 0, 0, 0, 0, 0, 0, 0, 0, 0, 0, 0, 0, 0, 0, 0, 0, 0, 0, 0, 0, 0, 0, 0, 0, 0, 0, 0, 0, 0, 0, 0, 0, 0, 0, 0, 0, 0, 0, 0, 0, 0, 0, 0, 0, 0, 0, 0, 0, 0, 0, 0, 0, 0, 0, 0, 0, 0, 0, 0, 0, 0, 0, 0, 0, 0, 0, 0, 0, 0, 0, 0, 0, 0, 0, 0, 0, 0, 0, 0, 0, 0, 0, 0, 0, 0, 0, 0, 0, 0, 0, 0, 0, 0, 0, 0, 0, 0, 0, 0, 0, 0, 0, 0, 0, 0, 0, 0, 0, 0, 0, 0, 0, 0, 0, 0, 0, 0, 0, 0, 0, 0, 0, 0, 0, 0, 0, 0, 0, 0, 0, 0, 0, 0, 0, 0, 0, 0, 0, 0, 0, 0, 0, 0, 0, 0, 0, 0, 0, 0, 0, 0, 0, 0, 0, 0, 0, 0, 0, 0, 0, 0, 0, 0, 0, 0, 0, 0, 0, 0, 0, 0, 0, 0, 0, 0, 0, 0, 0, 0, 0, 0, 0, 0, 0, 0, 0, 0, 0, 0, 0, 0, 0, 0, 0, 0, 0, 0, 0, 0, 0, 0, 0, 0, 0, 0, 0, 0, 0, 0, 0, 0, 0, 0, 0, 0, 0, 0, 0, 0, 0, 0, 0, 0, 0, 0, 0, 0, 0, 0, 0, 0, 0, 0, 0, 0, 0, 0, 0, 0, 0, 0, 0, 0, 0, 0, 0, 0, 0, 0, 0, 0, 0, 0, 0, 0, 0, 0, 0, 0, 0, 0, 0, 0, 0, 0, 0, 0, 0, 0, 0, 0, 0, 0, 0, 0, 0, 0, 0, 0, 0, 0, 0, 0, 0, 0, 0, 0, 0, 0, 0, 0, 0, 0, 0, 0, 0, 0, 0, 0, 0, 0, 0, 0, 0, 0, 0, 0, 0, 0, 0, 0, 0, 0, 0, 0, 0, 0, 0, 0, 0, 0, 0, 0, 0, 0, 0, 0, 0, 0, 0, 0, 0, 0, 0, 0, 0, 0, 0, 0, 0, 0, 0, 0, 0, 0, 0, 0, 0, 0, 0, 0, 0, 0, 0, 0, 0, 0, 0, 0, 0, 0, 0, 0, 0, 0, 0, 0, 0, 0, 0, 0, 0, 0, 0, 0, 0, 0, 0, 0, 0, 0, 0, 0, 0, 0, 0, 0, 0, 0, 0, 0, 0, 0, 0, 0, 0, 0, 0, 0, 0, 0, 0, 0, 0, 0, 0, 0, 0, 0, 0, 0, 0, 0, 0, 0, 0, 0, 0, 0, 0, 0, 0, 0, 0, 0, 0, 0, 0, 0, 0, 0, 0, 0, 0, 0, 0, 0, 0, 0, 0, 0, 0, 0, 0, 0, 0, 0, 0, 0, 0, 0, 0, 0, 0, 0, 0, 0, 0, 0, 0, 0, 0, 0, 0, 0, 0, 0, 0, 0, 0, 0, 0, 0, 0, 0, 0, 0, 0, 0, 0, 0, 0, 0, 0, 0, 0, 0, 0, 0, 0, 0, 0, 0, 0, 0, 0, 0, 0, 0, 0, 0, 0, 0, 0, 0, 0, 0, 0, 0, 0, 0, 0, 0, 0, 0, 0, 0, 0, 0, 0, 0, 0, 0, 0, 0, 0, 0, 0, 0, 0, 0, 0, 0, 0, 0, 0, 0, 0, 0, 0, 0, 0, 0, 0, 0, 0, 0, 0, 0, 0, 0, 0, 0, 0, 0, 0, 0, 0, 0, 0, 0, 0, 0, 0, 0, 0, 0, 0, 0, 0, 0, 0, 0, 0, 0, 0, 0, 0, 0, 0, 0, 0, 0, 0, 0, 0, 0, 0, 0, 0, 0, 0, 0, 0, 0, 0, 0, 0, 0, 0, 0, 0, 0, 0, 0, 0, 0, 0, 0, 0, 0, 0, 0, 0, 0, 0, 0, 0, 0, 0, 0, 0, 0, 0, 0, 0, 0, 0, 0, 0, 0, 0, 0, 0, 0, 0, 0, 0, 0, 0, 0, 0, 0, 0, 0, 0, 0, 0, 0, 0, 0, 0, 0, 0, 0, 0, 0, 0, 0, 0, 0, 0, 0, 0, 0, 0, 0, 0, 0, 0, 0, 0, 0, 0, 0, 0, 0, 0, 0, 0, 0, 0, 0, 0, 0, 0, 0, 0, 0, 0, 0, 0, 0, 0, 0, 0, 0, 0, 0, 0, 0, 0, 0, 0, 0, 0, 0, 0, 0, 0, 0, 0, 0, 0, 0, 0, 0, 0, 0, 0, 0, 0, 0, 0, 0, 0, 0, 0, 0, 0, 0, 0, 0, 0, 0, 0, 0, 0, 0, 0, 0, 0, 0, 0, 0, 0, 0, 0, 0, 0, 0, 0, 0, 0, 0, 0, 0, 0, 0, 0, 0, 0, 0, 0, 0, 0, 0, 0, 0, 0, 0, 0, 0, 0, 0, 0, 0, 0, 0, 0, 0, 0, 0, 0, 0, 0, 0, 0, 0, 0, 0, 0, 0, 0, 0, 0, 0, 0, 0, 0, 0, 0, 0, 0, 0, 0, 0, 0, 0, 0, 0, 0, 0, 0, 0, 0, 0, 0, 0, 0, 0, 0, 0, 0, 0, 0, 0, 0, 0, 0, 0, 0, 0, 0, 0, 0, 0, 0, 0, 0, 0, 0, 0, 0, 0, 0, 0, 0, 0, 0, 0, 0, 0, 0, 0, 0, 0, 0, 0, 0, 0, 0, 0, 0, 0, 0, 0, 0, 0, 0, 0, 0, 0, 0, 0, 0, 0, 0, 0, 0, 0, 0, 0, 0, 0, 0, 0, 0, 0, 0, 0, 0, 0, 0, 0, 0, 0, 0, 0, 0, 0, 0, 0, 0, 0, 0, 0, 0, 0, 0, 0, 0, 0, 0, 0, 0, 0, 0, 0, 0, 0, 0, 0, 0, 0, 0, 0, 0, 0, 0, 0, 0, 0, 0, 0, 0, 0, 0, 0, 0, 0, 0, 0, 0, 0, 0, 0, 0, 0, 0, 0, 0, 0, 0, 0, 0, 0, 0, 0, 0, 0, 0, 0, 0, 0, 0, 0, 0, 0, 0, 0, 0, 0, 0, 0, 0, 0, 0, 0, 0, 0, 0, 0, 0, 0, 0, 0, 0, 0, 0, 0, 0, 0, 0, 0, 0, 0, 0, 0, 0, 0, 0, 0, 0, 0, 0, 0, 0, 0, 0, 0, 0, 0, 0, 0, 0, 0, 0, 0, 0, 0, 0, 0, 0, 0, 0, 0, 0, 0, 0, 0, 0, 0, 0, 0, 0, 0, 0, 0, 0, 0, 0, 0, 0, 0, 0, 0, 0, 0, 0, 0, 0, 0, 0, 0, 0, 0, 0, 0, 0, 0, 0, 0, 0, 0, 0, 0, 0, 0, 0, 0, 0, 0, 0, 0, 0, 0, 0, 0, 0, 0, 0, 0, 0, 0, 0, 0, 0, 0, 0, 0, 0, 0, 0, 0, 0, 0, 0, 0, 0, 0, 0, 0, 0, 0, 0, 0, 0, 0, 0, 0, 0, 0, 0, 0, 0, 0, 0, 0, 0, 0, 0, 0, 0, 0, 0, 0, 0, 0, 0, 0, 0, 0, 0, 0, 0, 0, 0, 0, 0, 0, 0, 0, 0, 0, 0, 0, 0, 0, 0, 0, 0, 0, 0, 0, 0, 0, 0, 0, 0, 0, 0, 0, 0, 0, 0, 0, 0, 0, 0, 0, 0, 0, 0, 0, 0, 0, 0, 0, 0, 0, 0, 0, 0, 0, 0, 0, 0, 0, 0, 0, 0, 0, 0, 0, 0, 0, 0, 0, 0, 0, 0, 0, 0, 0, 0, 0, 0, 0, 0, 0, 0, 0, 0, 0, 0, 0, 0, 0, 0, 0, 0, 0, 0, 0, 0, 0, 0, 0, 0, 0, 0, 0, 0, 0, 0, 0, 0, 0, 0, 0, 0, 0, 0, 0, 0, 0, 0, 0, 0, 0, 0, 0, 0, 0, 0, 0, 0, 0, 0, 0, 0, 0, 0, 0, 0, 0, 0, 0, 0, 0, 0, 0, 0, 0, 0, 0, 0, 0, 0, 0, 0, 0, 0, 0, 0, 0, 0, 0, 0, 0, 0, 0, 0, 0, 0, 0, 0, 0, 0, 0, 0, 0, 0, 0, 0, 0, 0, 0, 0, 0, 0, 0, 0, 0, 0, 0, 0, 0, 0, 0, 0, 0, 0, 0, 0, 0, 0, 0, 0, 0, 0, 0, 0, 0, 0, 0, 0, 0, 0, 0, 0, 0, 0, 0, 0, 0, 0, 0, 0, 0, 0, 0, 0, 0, 0, 0, 0, 0, 0, 0, 0, 0, 0, 0, 0, 0, 0, 0, 0, 0, 0, 0, 0, 0, 0, 0, 0, 0, 0, 0, 0, 0, 0, 0, 0, 0, 0, 0, 0, 0, 0, 0, 0, 0, 0, 0, 0, 0, 0, 0, 0, 0, 0, 0, 0, 0, 0, 0, 0, 0, 0, 0, 0, 0, 0, 0, 0, 0, 0, 0, 0, 0, 0, 0, 0, 0, 0, 0, 0, 0, 0, 0, 0, 0, 0, 0, 0, 0, 0, 0, 0, 0, 0, 0, 0, 0, 0, 0, 0, 0, 0, 0, 0, 0, 0, 0, 0, 0, 0, 0, 0, 0, 0, 0, 0, 0, 0, 0, 0, 0, 0, 0, 0, 0, 0, 0, 0, 0, 0, 0, 0, 0, 0, 0, 0, 0, 0, 0, 0, 0, 0, 0, 0, 0, 0, 0, 0, 0, 0, 0, 0, 0, 0, 0, 0, 0, 0, 0, 0, 0, 0, 0, 0, 0, 0, 0, 0, 0, 0, 0, 0, 0, 0, 0, 0, 0, 0, 0, 0, 0, 0, 0, 0, 0, 0, 0, 0, 0, 0, 0, 0, 0, 0, 0, 0, 0, 0, 0, 0, 0, 0, 0, 0, 0, 0, 0, 0, 0, 0, 0, 0, 0, 0, 0, 0, 0, 0, 0, 0, 0, 0, 0, 0, 0, 0, 0, 0, 0, 0, 0, 0, 0, 0, 0, 0, 0, 0, 0, 0, 0, 0, 0, 0, 0, 0, 0, 0, 0, 0, 0, 0, 0, 0, 0, 0, 0, 0, 0, 0, 0, 0, 0, 0, 0, 0, 0, 0, 0, 0, 0, 0, 0, 0, 0, 0, 0, 0, 0, 0, 0, 0, 0, 0, 0, 0, 0, 0, 0, 0, 0, 0, 0, 0, 0, 0, 0, 0, 0, 0, 0, 0, 0, 0, 0, 0, 0, 0, 0, 0, 0, 0, 0, 0, 0, 0, 0, 0, 0, 0, 0, 0, 0, 0, 0, 0, 0, 0, 0, 0, 0, 0, 0, 0, 0, 0, 0, 0, 0, 0, 0, 0, 0, 0, 0, 0, 0, 0, 0, 0, 0, 0, 0, 0, 0, 0, 0, 0, 0, 0, 0, 0, 0, 0, 0, 0, 0, 0, 0, 0, 0, 0, 0, 0, 0, 0, 0, 0, 0, 0, 0, 0, 0, 0, 0, 0, 0, 0, 0, 0, 0, 0, 0, 0, 0, 0, 0, 0, 0, 0, 0, 0, 0, 0, 0, 0, 0, 0, 0, 0, 0, 0, 0, 0, 0, 0, 0, 0, 0, 0, 0, 0, 0, 0, 0, 0, 0, 0, 0, 0, 0, 0, 0, 0, 0, 0, 0, 0, 0, 0, 0, 0, 0, 0, 0, 0, 0, 0, 0, 0, 0, 0, 0, 0, 0, 0, 0, 0, 0, 0, 0, 0, 0, 0, 0, 0, 0, 0, 0, 0, 0, 0, 0, 0, 0, 0, 0, 0, 0, 0, 0, 0, 0, 0, 0, 0, 0, 0, 0, 0, 0, 0, 0, 0, 0, 0, 0, 0, 0, 0, 0, 0, 0, 0, 0, 0, 0, 0, 0, 0, 0, 0, 0, 0, 0, 0, 0, 0, 0, 0, 0, 0, 0, 0, 0, 0, 0, 0, 0, 0, 0, 0, 0, 0, 0, 0, 0, 0, 0, 0, 0, 0, 0, 0, 0, 0, 0, 0, 0, 0, 0, 0, 0, 0, 0, 0, 0, 0, 0, 0, 0, 0, 0, 0, 0, 0, 0, 0, 0, 0, 0, 0, 0, 0, 0, 0, 0, 0, 0, 0, 0, 0, 0, 0, 0, 0, 0, 0, 0, 0, 0, 0, 0, 0, 0, 0, 0, 0, 0, 0, 0, 0, 0, 0, 0, 0, 0, 0, 0, 0, 0, 0, 0, 0, 0, 0, 0, 0, 0, 0, 0, 0, 0, 0, 0, 0, 0, 0, 0, 0, 0, 0, 0, 0, 0, 0, 0, 0, 0, 0, 0, 0, 0, 0, 0, 0, 0, 0, 0, 0, 0, 0, 0, 0, 0, 0, 0, 0, 0, 0, 0, 0, 0, 0, 0, 0, 0, 0, 0, 0, 0, 0, 0, 0, 0, 0, 0, 0, 0, 0, 0, 0, 0, 0, 0, 0, 0, 0, 0, 0, 0, 0, 0, 0, 0, 0, 0, 0, 0, 0, 0, 0, 0, 0, 0, 0, 0, 0, 0, 0, 0, 0, 0, 0, 0, 0, 0, 0, 0, 0, 0, 0, 0, 0, 0, 0, 0, 0, 0, 0, 0, 0, 0, 0, 0, 0, 0, 0, 0, 0, 0, 0, 0, 0, 0, 0, 0, 0, 0, 0, 0, 0, 0, 0, 0, 0, 0, 0, 0, 0, 0, 0, 0, 0, 0, 0, 0, 0, 0, 0, 0, 0, 0, 0, 0, 0, 0, 0, 0, 0, 0, 0, 0, 0, 0, 0, 0, 0, 0, 0, 0, 0, 0, 0, 0, 0, 0, 0, 0, 0, 0, 0, 0, 0, 0, 0, 0, 0, 0, 0, 0, 0, 0, 0, 0, 0, 0, 0, 0, 0, 0, 0, 0, 0, 0, 0, 0, 0, 0, 0, 0, 0, 0, 0, 0, 0, 0, 0, 0, 0, 0, 0, 0, 0, 0, 0, 0, 0, 0, 0, 0, 0, 0, 0, 0, 0, 0, 0, 0, 0, 0, 0, 0, 0, 0, 0, 0, 0, 0, 0, 0, 0, 0, 0, 0, 0, 0, 0, 0, 0, 0, 0, 0, 0, 0, 0, 0, 0, 0, 0, 0, 0, 0, 0, 0, 0, 0, 0, 0, 0, 0, 0, 0, 0, 0, 0, 0, 0, 0, 0, 0, 0, 0, 0, 0, 0, 0, 0, 0, 0, 0, 0, 0, 0, 0, 0, 0, 0, 0, 0, 0, 0, 0, 0, 0, 0, 0, 0, 0, 0, 0, 0, 0, 0, 0, 0, 0, 0, 0, 0, 0, 0, 0, 0, 0, 0, 0, 0, 0, 0, 0, 0, 0, 0, 0, 0, 0, 0, 0, 0, 0, 0, 0, 0, 0, 0, 0, 0, 0, 0, 0, 0, 0, 0, 0, 0, 0, 0, 0, 0, 0, 0, 0, 0, 0, 0, 0, 0, 0, 0, 0, 0, 0, 0, 0, 0, 0, 0, 0, 0, 0, 0, 0, 0, 0, 0, 0, 0, 0, 0, 0, 0, 0, 0, 0, 0, 0, 0, 0, 0, 0, 0, 0, 0, 0, 0, 0, 0, 0, 0, 0, 0, 0, 0, 0, 0, 0, 0, 0, 0, 0, 0, 0, 0, 0, 0, 0, 0, 0, 0, 0, 0, 0, 0, 0, 0, 0, 0, 0, 0, 0, 0, 0, 0, 0, 0, 0, 0, 0, 0, 0, 0, 0, 0, 0, 0, 0, 0, 0, 0, 0, 0, 0, 0, 0, 0, 0, 0, 0, 0, 0, 0, 0, 0, 0, 0, 0, 0, 0, 0, 0, 0, 0, 0, 0, 0, 0, 0, 0, 0, 0, 0, 0, 0, 0, 0, 0, 0, 0, 0, 0, 0, 0, 0, 0, 0, 0, 0, 0, 0, 0, 0, 0, 0, 0, 0, 0, 0, 0, 0, 0, 0, 0, 0, 0, 0, 0, 0, 0, 0, 0, 0, 0, 0, 0, 0, 0, 0, 0, 0, 0, 0, 0, 0, 0, 0, 0, 0, 0, 0, 0, 0, 0, 0, 0, 0, 0, 0, 0, 0, 0, 0, 0, 0, 0, 0, 0, 0, 0, 0, 0, 0, 0, 0, 0, 0, 0, 0, 0, 0, 0, 0, 0, 0, 0, 0, 0, 0, 0, 0, 0, 0, 0, 0, 0, 0, 0, 0, 0, 0, 0, 0, 0, 0, 0, 0, 0, 0, 0, 0, 0, 0, 0, 0, 0, 0, 0, 0, 0, 0, 0, 0, 0, 0, 0, 0, 0, 0, 0, 0, 0, 0, 0, 0, 0, 0, 0, 0, 0, 0, 0, 0, 0, 0, 0, 0, 0, 0, 0, 0, 0, 0, 0, 0, 0, 0, 0, 0, 0, 0, 0, 0, 0, 0, 0, 0, 0, 0, 0, 0, 0, 0, 0, 0, 0, 0, 0, 0, 0, 0, 0, 0, 0, 0, 0, 0, 0, 0, 0, 0, 0, 0, 0, 0, 0, 0, 0, 0, 0, 0, 0, 0, 0, 0, 0, 0, 0, 0, 0, 0, 0, 0, 0, 0, 0, 0, 0, 0, 0, 0, 0, 0, 0, 0, 0, 0, 0, 0, 0, 0, 0, 0, 0, 0, 0, 0, 0, 0, 0, 0, 0, 0, 0, 0, 0, 0, 0, 0, 0, 0, 0, 0, 0, 0, 0, 0, 0, 0, 0, 0, 0, 0, 0, 0, 0, 0, 0, 0, 0, 0, 0, 0, 0, 0, 0, 0, 0, 0, 0, 0, 0, 0, 0, 0, 0, 0, 0, 0, 0, 0, 0, 0, 0, 0, 0, 0, 0, 0, 0, 0, 0, 0, 0, 0, 0, 0, 0, 0, 0, 0, 0, 0, 0, 0, 0, 0, 0, 0, 0, 0, 0, 0, 0, 0, 0, 0, 0, 0, 0, 0, 0, 0, 0, 0, 0, 0, 0, 0, 0, 0, 0, 0, 0, 0, 0, 0, 0, 0, 0, 0, 0, 0, 0, 0, 0, 0, 0, 0, 0, 0, 0, 0, 0, 0, 0, 0, 0, 0, 0, 0, 0, 0, 0, 0, 0, 0, 0, 0, 0, 0, 0, 0, 0, 0, 0, 0, 0, 0, 0, 0, 0, 0, 0, 0, 0, 0, 0, 0, 0, 0, 0, 0, 0, 0, 0, 0, 0, 0, 0, 0, 0, 0, 0, 0, 0, 0, 0, 0, 0, 0, 0, 0, 0, 0, 0, 0, 0, 0, 0, 0, 0, 0, 0, 0, 0, 0, 0, 0, 0, 0, 0, 0, 0, 0, 0, 0, 0, 0, 0, 0, 0, 0, 0, 0, 0, 0, 0, 0, 0, 0, 0, 0, 0, 0, 0, 0, 0, 0, 0, 0, 0, 0, 0, 0, 0, 0, 0, 0, 0, 0, 0, 0, 0, 0, 0, 0, 0, 0, 0, 0, 0, 0, 0, 0, 0, 0, 0, 0, 0, 0, 0, 0, 0, 0, 0, 0, 0, 0, 0, 0, 0, 0, 0, 0, 0, 0, 0, 0, 0, 0, 0, 0, 0, 0, 0, 0, 0, 0, 0, 0, 0, 0, 0, 0, 0, 0, 0, 0, 0, 0, 0, 0, 0, 0, 0, 0, 0, 0, 0, 0, 0, 0, 0, 0, 0, 0, 0, 0, 0, 0, 0, 0, 0, 0, 0, 0, 0, 0, 0, 0, 0, 0, 0, 0, 0, 0, 0, 0, 0, 0, 0, 0, 0, 0, 0, 0, 0, 0, 0, 0, 0, 0, 0, 0, 0, 0, 0, 0, 0, 0, 0, 0, 0, 0, 0, 0, 0, 0, 0, 0, 0, 0, 0, 0, 0, 0, 0, 0, 0, 0, 0, 0, 0, 0, 0, 0, 0, 0, 0, 0, 0, 0, 0, 0, 0, 0, 0, 0, 0, 0, 0, 0, 0, 0, 0, 0, 0, 0, 0, 0, 0, 0, 0, 0, 0, 0, 0, 0, 0, 0, 0, 0, 0, 0, 0, 0, 0, 0, 0, 0, 0, 0, 0, 0, 0, 0, 0, 0, 0, 0, 0, 0, 0, 0, 0, 0, 0, 0, 0, 0, 0, 0, 0, 0, 0, 0, 0, 0, 0, 0, 0, 0, 0, 0, 0, 0, 0, 0, 0, 0, 0, 0, 0, 0, 0, 0, 0, 0, 0, 0, 0, 0, 0, 0, 0, 0, 0, 0, 0, 0, 0, 0, 0, 0, 0, 0, 0, 0, 0, 0, 0, 0, 0, 0, 0, 0, 0, 0, 0, 0, 0, 0, 0, 0, 0, 0, 0, 0, 0, 0, 0, 0, 0, 0, 0, 0, 0, 0, 0, 0, 0, 0, 0, 0, 0, 0, 0, 0, 0, 0, 0, 0, 0, 0, 0, 0, 0, 0, 0, 0, 0, 0, 0, 0, 0, 0, 0, 0, 0, 0, 0, 0, 0, 0, 0, 0, 0, 0, 0, 0, 0, 0, 0, 0, 0, 0, 0, 0, 0, 0, 0, 0, 0, 0, 0, 0, 0, 0, 0, 0, 0, 0, 0, 0, 0, 0, 0, 0, 0, 0, 0, 0, 0, 0, 0, 0, 0, 0, 0, 0, 0, 0, 0, 0, 0, 0, 0, 0, 0, 0, 0, 0, 0, 0, 0, 0, 0, 0, 0, 0, 0, 0, 0, 0, 0, 0, 0, 0, 0, 0, 0, 0, 0, 0, 0, 0, 0, 0, 0, 0, 0, 0, 0, 0, 0, 0, 0, 0, 0, 0, 0, 0, 0, 0, 0, 0, 0, 0, 0, 0, 0, 0, 0, 0, 0, 0, 0, 0, 0, 0, 0, 0, 0, 0, 0, 0, 0, 0, 0, 0, 0, 0, 0, 0, 0, 0, 0, 0, 0, 0, 0, 0, 0, 0, 0, 0, 0, 0, 0, 0, 0, 0, 0, 0, 0, 0, 0, 0, 0, 0, 0, 0, 0, 0, 0, 0, 0, 0, 0, 0, 0, 0, 0, 0, 0, 0, 0, 0, 0, 0, 0, 0, 0, 0, 0, 0, 0, 0, 0, 0, 0, 0, 0, 0, 0, 0, 0, 0, 0, 0, 0, 0, 0, 0, 0, 0, 0, 0, 0, 0, 0, 0, 0, 0, 0, 0, 0, 0, 0, 0, 0, 0, 0, 0, 0, 0, 0, 0, 0, 0, 0, 0, 0, 0, 0, 0, 0, 0, 0, 0, 0, 0, 0, 0, 0, 0, 0, 0, 0, 0, 0, 0, 0, 0, 0, 0, 0, 0, 0, 0, 0, 0, 0, 0, 0, 0, 0, 0, 0, 0, 0, 0, 0, 0, 0, 0, 0, 0, 0, 0, 0, 0, 0, 0, 0, 0, 0, 0, 0, 0, 0, 0, 0, 0, 0, 0, 0, 0, 0, 0, 0, 0, 0, 0, 0, 0, 0, 0, 0, 0, 0, 0, 0, 0, 0, 0, 0, 0, 0, 0, 0, 0, 0, 0, 0, 0, 0, 0, 0, 0, 0, 0, 0, 0, 0, 0, 0, 0, 0, 0, 0, 0, 0, 0, 0, 0, 0, 0, 0, 0, 0, 0, 0, 0, 0, 0, 0, 0, 0, 0, 0, 0, 0, 0, 0, 0, 0, 0, 0, 0, 0, 0, 0, 0, 0, 0, 0, 0, 0, 0, 0, 0, 0, 0, 0, 0, 0, 0, 0, 0, 0, 0, 0, 0, 0, 0, 0, 0, 0, 0, 0, 0, 0, 0, 0, 0, 0, 0, 0, 0, 0, 0, 0, 0, 0, 0, 0, 0, 0, 0, 0, 0, 0, 0, 0, 0, 0, 0, 0, 0, 0, 0, 0, 0, 0, 0, 0, 0, 0, 0, 0, 0, 0, 0, 0, 0, 0, 0, 0, 0, 0, 0, 0, 0, 0, 0, 0, 0, 0, 0, 0, 0, 0, 0, 0, 0, 0, 0, 0, 0, 0, 0, 0, 0, 0, 0, 0, 0, 0, 0, 0, 0, 0, 0, 0, 0, 0, 0, 0, 0, 0, 0, 0, 0, 0, 0, 0, 0, 0, 0, 0, 0, 0, 0]\n"
     ]
    }
   ],
   "source": [
    "print(truth_classes[:10000])\n",
    "print(truth_list[:10000])"
   ]
  },
  {
   "cell_type": "code",
   "execution_count": 38,
   "id": "94ac5260-5aa3-4830-ad90-97cd60ac6e4d",
   "metadata": {},
   "outputs": [
    {
     "data": {
      "image/png": "[encoded data removed]",
      "text/plain": [
       "<Figure size 640x480 with 1 Axes>"
      ]
     },
     "metadata": {},
     "output_type": "display_data"
    }
   ],
   "source": [
    "import matplotlib.pyplot as plt\n",
    "\n",
    "# Plotting\n",
    "plt.plot(range(original_time_series_length)[:440000], truth_list[:440000], label='Truth List')\n",
    "#plt.plot(range(original_time_series_length)[:100000], result_list[:100000], label='Predicted Result List')\n",
    "\n",
    "# Adding labels and legend\n",
    "plt.xlabel('Index')\n",
    "plt.ylabel('Value')\n",
    "plt.legend()\n",
    "\n",
    "# Display the plot\n",
    "plt.show()\n",
    "\n",
    "\n",
    "\n",
    "\n"
   ]
  },
  {
   "cell_type": "code",
   "execution_count": 41,
   "id": "0689f673-0d2b-4d72-9218-15ef982cec17",
   "metadata": {},
   "outputs": [
    {
     "data": {
      "image/png": "[encoded data removed]",
      "text/plain": [
       "<Figure size 2000x600 with 1 Axes>"
      ]
     },
     "metadata": {},
     "output_type": "display_data"
    }
   ],
   "source": [
    "import matplotlib.pyplot as plt\n",
    "plt.figure(figsize=(20, 6))\n",
    "# Plotting\n",
    "plt.plot(range(original_time_series_length)[:440000], truth_list[:440000], label='Truth List')\n",
    "plt.plot(range(original_time_series_length)[:440000], result_list[:440000], label='Predicted Result List', alpha=0.5)\n",
    "\n",
    "# Adding labels and legend\n",
    "plt.xlabel('Index')\n",
    "plt.ylabel('Value')\n",
    "plt.legend()\n",
    "\n",
    "# Display the plot\n",
    "plt.show()"
   ]
  },
  {
   "cell_type": "code",
   "execution_count": null,
   "id": "7be64d02-daac-4ef8-aa31-abbbbc0dd2f9",
   "metadata": {},
   "outputs": [],
   "source": []
  }
 ],
 "metadata": {
  "kernelspec": {
   "display_name": "Python 3 (ipykernel)",
   "language": "python",
   "name": "python3"
  },
  "language_info": {
   "codemirror_mode": {
    "name": "ipython",
    "version": 3
   },
   "file_extension": ".py",
   "mimetype": "text/x-python",
   "name": "python",
   "nbconvert_exporter": "python",
   "pygments_lexer": "ipython3",
   "version": "3.11.0"
  }
 },
 "nbformat": 4,
 "nbformat_minor": 5
}
