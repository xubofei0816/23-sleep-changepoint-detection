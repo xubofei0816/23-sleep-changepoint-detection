{
 "cells": [
  {
   "cell_type": "markdown",
   "id": "c185d699-433f-45bb-80ae-be3bf72d28b1",
   "metadata": {
    "user_expressions": []
   },
   "source": [
    "# Import libraries and prepare data"
   ]
  },
  {
   "cell_type": "code",
   "execution_count": 1,
   "id": "ab2da493-274e-4d37-8461-7b0263444902",
   "metadata": {
    "tags": []
   },
   "outputs": [],
   "source": [
    "import numpy as np \n",
    "import pandas as pd \n",
    "from trendfilter import trend_filter"
   ]
  },
  {
   "cell_type": "markdown",
   "id": "3cfcd2bc-e3b8-4d6d-a35b-2ca759d9993a",
   "metadata": {
    "tags": [],
    "user_expressions": []
   },
   "source": [
    "# Data"
   ]
  },
  {
   "cell_type": "code",
   "execution_count": 2,
   "id": "dc651bea-f50a-4fcb-a94f-70203b3a3204",
   "metadata": {
    "tags": []
   },
   "outputs": [],
   "source": [
    "train_events = pd.read_csv(\"train_events.csv\")"
   ]
  },
  {
   "cell_type": "code",
   "execution_count": 3,
   "id": "fc1dd343-c857-4466-92fa-dcbbcb301282",
   "metadata": {
    "tags": []
   },
   "outputs": [],
   "source": [
    "series_has_NaN = train_events.groupby('series_id')['step'].apply(lambda x: x.isnull().any())\n",
    "no_NaN_series = series_has_NaN[~series_has_NaN].index.tolist()\n",
    "# also drop these two \"truncated\" events series seen in EDA:\n",
    "no_NaN_series.remove('31011ade7c0a') # incomplete events data\n",
    "no_NaN_series.remove('a596ad0b82aa') # incomplete events data"
   ]
  },
  {
   "cell_type": "code",
   "execution_count": 4,
   "id": "2823a487-3077-4254-abca-da1dc73be224",
   "metadata": {
    "tags": []
   },
   "outputs": [],
   "source": [
    "def get_train_series(series):\n",
    "    train_series = pd.read_parquet(\"train_series.parquet\", filters=[('series_id','=',series)])\n",
    "    train_events = pd.read_csv(\"train_events.csv\").query('series_id == @series')\n",
    "    \n",
    "    train_events = train_events.dropna()\n",
    "    train_events[\"step\"]  = train_events[\"step\"].astype(\"int\")\n",
    "    train_events[\"awake\"] = train_events[\"event\"].replace({\"onset\":1,\"wakeup\":0})\n",
    "\n",
    "    train = pd.merge(train_series, train_events[['step','awake']], on='step', how='left')\n",
    "    train[\"awake\"] = train[\"awake\"].bfill(axis ='rows')\n",
    "    # final section:\n",
    "    # train_events.groupby('series_id').tail(1)[\"event\"].unique()\n",
    "    # Result: the last event is always a \"wakeup\"\n",
    "    train['awake'] = train['awake'].fillna(1) # awake\n",
    "    train[\"awake\"] = train[\"awake\"].astype(\"int\")\n",
    "    train['timestamp'] = pd.to_datetime(train['timestamp'].apply(lambda x: str(x).rsplit('-', 1)[0]))\n",
    "\n",
    "    return(train)"
   ]
  },
  {
   "cell_type": "code",
   "execution_count": 5,
   "id": "dfa0627b-9958-4511-ad98-d3049cbf122d",
   "metadata": {},
   "outputs": [],
   "source": [
    "train = get_train_series(no_NaN_series[1])"
   ]
  },
  {
   "cell_type": "code",
   "execution_count": null,
   "id": "7ffe25f9-247e-44ea-99a1-e05d24a270e3",
   "metadata": {},
   "outputs": [],
   "source": []
  },
  {
   "cell_type": "code",
   "execution_count": 6,
   "id": "a3cd449f-5efb-4d2f-aaa6-5532b472ebda",
   "metadata": {
    "tags": []
   },
   "outputs": [],
   "source": [
    "test = pd.read_parquet(\"test_series.parquet\")\n",
    "test['timestamp'] = pd.to_datetime(test['timestamp'].apply(lambda x: str(x).rsplit('-', 1)[0]))"
   ]
  },
  {
   "cell_type": "code",
   "execution_count": 7,
   "id": "53b41024-6b99-47a5-ad8b-77f296d2967f",
   "metadata": {},
   "outputs": [],
   "source": [
    "series_ids = test['series_id'].unique()"
   ]
  },
  {
   "cell_type": "code",
   "execution_count": null,
   "id": "702b539f-25e4-43ec-a0d5-c0f72fec60f7",
   "metadata": {},
   "outputs": [],
   "source": []
  },
  {
   "cell_type": "markdown",
   "id": "cdc64c1b-c003-4757-be99-85512910c58a",
   "metadata": {
    "user_expressions": []
   },
   "source": [
    "### Features"
   ]
  },
  {
   "cell_type": "code",
   "execution_count": 8,
   "id": "c559bb5d-2b15-4a55-9a80-0f9b3df67d73",
   "metadata": {
    "tags": []
   },
   "outputs": [],
   "source": [
    "def feature_extraction(df, w):\n",
    "    median_enmo = df.enmo.rolling(w).median()\n",
    "    median_enmo_before = median_enmo.iloc[w:-w] \n",
    "    median_enmo_after = median_enmo.iloc[(2*w):]\n",
    "\n",
    "    diff_anglez = pd.Series(np.abs(np.diff(df.anglez, prepend = 0)))\n",
    "    median_diff_anglez = diff_anglez.rolling(w).median()\n",
    "    median_diff_anglez_before = median_diff_anglez.iloc[w:-w]\n",
    "    median_diff_anglez_after = median_diff_anglez.iloc[(2*w):]\n",
    "\n",
    "    # Feature matrix \n",
    "    X = np.transpose(np.array([median_enmo_before.values, \n",
    "                               median_enmo_after.values, \n",
    "                               median_diff_anglez_before.values, \n",
    "                               median_diff_anglez_after.values,\n",
    "                              ]\n",
    "                             )\n",
    "                    )\n",
    "    return(X)"
   ]
  },
  {
   "cell_type": "markdown",
   "id": "9e024bf0-a8c6-42be-a484-ffa1ea94e6ba",
   "metadata": {
    "user_expressions": []
   },
   "source": [
    "# Fit"
   ]
  },
  {
   "cell_type": "code",
   "execution_count": 9,
   "id": "dee5ac0a-6613-4083-b2bd-246ca870132f",
   "metadata": {
    "tags": []
   },
   "outputs": [],
   "source": [
    "w = 5\n",
    "X_train = feature_extraction(train, w)\n",
    "y_train = train.awake[w:-w]"
   ]
  },
  {
   "cell_type": "code",
   "execution_count": 10,
   "id": "0edf96ec-cbe2-4f83-99b3-4a4fe0f624e9",
   "metadata": {
    "tags": []
   },
   "outputs": [],
   "source": [
    "from sklearn.preprocessing import StandardScaler\n",
    "\n",
    "scaler = StandardScaler()\n",
    "X_train = scaler.fit_transform(X_train)"
   ]
  },
  {
   "cell_type": "code",
   "execution_count": 11,
   "id": "464d1b41-7dd0-46c2-97a2-419c103b112a",
   "metadata": {
    "tags": []
   },
   "outputs": [],
   "source": [
    "from sklearn.linear_model import LogisticRegression\n",
    "\n",
    "clf = LogisticRegression(random_state=0).fit(X_train, y_train)"
   ]
  },
  {
   "cell_type": "code",
   "execution_count": null,
   "id": "db5d5af3-df1c-4fa4-9fc8-b5d63cfd70d2",
   "metadata": {},
   "outputs": [],
   "source": []
  },
  {
   "cell_type": "markdown",
   "id": "0fad6c7c-1ead-49dd-a04a-cb6f0e82fe55",
   "metadata": {
    "user_expressions": []
   },
   "source": [
    "# Predict"
   ]
  },
  {
   "cell_type": "code",
   "execution_count": 12,
   "id": "d5afb6c8-b8a1-47ef-ae22-8b180eb2dd3a",
   "metadata": {},
   "outputs": [],
   "source": [
    "output = pd.DataFrame(columns = ['series_id', 'step', 'event', 'score'])\n",
    "\n",
    "for i in range(len(series_ids)):\n",
    "    test_data = test[test.series_id == series_ids[i]]\n",
    "    X_test = feature_extraction(test_data, w)\n",
    "    X_test = scaler.transform(X_test)\n",
    "    pred = clf.predict(X_test)\n",
    "    \n",
    "    x = np.linspace(0, len(pred), len(pred))\n",
    "    tf = trend_filter(x, pred, l_norm=1, alpha_1=150)\n",
    "    pred = np.round(tf['y_fit'])\n",
    "\n",
    "    pred_fall_asleep_step = np.where(pred[1:] - pred[:-1] == -1)[0]\n",
    "    pred_wakeup_step = np.where(pred[1:] - pred[:-1] == +1)[0]\n",
    "    mask_midnight = (test_data.timestamp.dt.hour == 0) & (test_data.timestamp.dt.minute == 0) & (test_data.timestamp.dt.second == 0)\n",
    "    midnight = test_data[mask_midnight]['step'].values\n",
    "    #print(pred_fall_asleep_step)\n",
    "\n",
    "    filtered_pred_fall_asleep_step = pred_fall_asleep_step.copy()\n",
    "    filtered_wakeup_step = pred_wakeup_step.copy()\n",
    "\n",
    "    night_range = 10000  # Steps corresponding to 12 hours\n",
    "    keep_list = []\n",
    "    # Iterate through midnight times\n",
    "    for night_step in midnight:\n",
    "        valid_steps = np.arange(night_step - night_range, night_step + night_range)\n",
    "\n",
    "        # Filter valid sleep and wake-up steps based on the valid range\n",
    "        valid_fall_asleep = pred_fall_asleep_step[np.isin(pred_fall_asleep_step, valid_steps)]\n",
    "        valid_wakeup = pred_wakeup_step[np.isin(pred_wakeup_step, valid_steps)]\n",
    "\n",
    "        # Initialize variables to track sleep phase information\n",
    "        index_valid_fall_asleep = 0\n",
    "        index_valid_wakeup = 0\n",
    "        longest_sleep_phase = 0\n",
    "        current_sleep = None\n",
    "        current_awake = None\n",
    "\n",
    "        # Iterate through valid sleep and wake-up steps\n",
    "        while index_valid_fall_asleep < len(valid_fall_asleep) and index_valid_wakeup < len(valid_wakeup):\n",
    "            if valid_fall_asleep[index_valid_fall_asleep] < valid_wakeup[index_valid_wakeup]:\n",
    "                if (valid_wakeup[index_valid_wakeup] - valid_fall_asleep[index_valid_fall_asleep] > longest_sleep_phase):\n",
    "                    current_sleep = valid_fall_asleep[index_valid_fall_asleep]\n",
    "                    current_awake = valid_wakeup[index_valid_wakeup]\n",
    "                    longest_sleep_phase = valid_wakeup[index_valid_wakeup] - valid_fall_asleep[index_valid_fall_asleep]\n",
    "                index_valid_fall_asleep += 1\n",
    "            else:\n",
    "                index_valid_wakeup += 1\n",
    "\n",
    "        keep_list.append(current_sleep)\n",
    "        keep_list.append(current_awake)\n",
    "\n",
    "    filtered_pred_fall_asleep_step = [x for x in filtered_pred_fall_asleep_step if x in keep_list]\n",
    "    filtered_pred_wakeup_step = [x for x in filtered_wakeup_step if x in keep_list]\n",
    "    \n",
    "    #print(filtered_pred_fall_asleep_step)\n",
    "    \n",
    "    output = pd.concat([output, \n",
    "                        pd.DataFrame({'series_id' : np.repeat(series_ids[i], len(filtered_pred_fall_asleep_step)),\n",
    "                                        'step' : filtered_pred_fall_asleep_step,\n",
    "                                        'event' : np.repeat('onset', len(filtered_pred_fall_asleep_step)),\n",
    "                                        'score' : np.repeat(1.0, len(filtered_pred_fall_asleep_step))}),\n",
    "                        pd.DataFrame({'series_id' : np.repeat(series_ids[i], len(filtered_pred_wakeup_step)),\n",
    "                                        'step' : filtered_pred_wakeup_step,\n",
    "                                        'event' : np.repeat('awake', len(filtered_pred_wakeup_step)),\n",
    "                                        'score' : np.repeat(1.0, len(filtered_pred_wakeup_step))})])\n"
   ]
  },
  {
   "cell_type": "code",
   "execution_count": 13,
   "id": "4723a014-69f9-401f-a39e-863136a55781",
   "metadata": {
    "tags": []
   },
   "outputs": [],
   "source": [
    "output.to_csv('submission.csv', index_label = 'row_id')"
   ]
  },
  {
   "cell_type": "code",
   "execution_count": null,
   "id": "490783c4-0de0-4850-92b0-9b10aa8d5d52",
   "metadata": {},
   "outputs": [],
   "source": []
  }
 ],
 "metadata": {
  "kernelspec": {
   "display_name": "Python 3 (ipykernel)",
   "language": "python",
   "name": "python3"
  },
  "language_info": {
   "codemirror_mode": {
    "name": "ipython",
    "version": 3
   },
   "file_extension": ".py",
   "mimetype": "text/x-python",
   "name": "python",
   "nbconvert_exporter": "python",
   "pygments_lexer": "ipython3",
   "version": "3.11.0"
  }
 },
 "nbformat": 4,
 "nbformat_minor": 5
}
